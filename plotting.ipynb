{
 "cells": [
  {
   "cell_type": "code",
   "execution_count": 2,
   "metadata": {},
   "outputs": [],
   "source": [
    "from matplotlib import pyplot as plt\n",
    "import numpy as np\n",
    "import pandas as pd\n",
    "import os"
   ]
  },
  {
   "cell_type": "markdown",
   "metadata": {},
   "source": [
    "Plotting all:"
   ]
  },
  {
   "cell_type": "code",
   "execution_count": 88,
   "metadata": {},
   "outputs": [],
   "source": [
    "files = list(os.listdir('./lab_data/'))\n",
    "files.sort()\n"
   ]
  },
  {
   "cell_type": "code",
   "execution_count": 62,
   "metadata": {},
   "outputs": [
    {
     "data": {
      "text/plain": [
       "<Figure size 432x288 with 0 Axes>"
      ]
     },
     "metadata": {},
     "output_type": "display_data"
    }
   ],
   "source": [
    "for i in range(len(files)):\n",
    "    data = pd.read_csv('./lab_data/{}'.format(files[i]), header=1, delimiter='\\t')\n",
    "    old_cols = data.columns.tolist()\n",
    "    data = data.rename(columns={old_cols[0]:'Position', old_cols[1]:'Intensity'})\n",
    "    # moving average\n",
    "    data[\"MA\"] = data[\"Intensity\"].rolling(window=150, center=True).mean()\n",
    "    ax = plt.gca()\n",
    "    plt.plot(data['Position'], data['Intensity'])\n",
    "    plt.plot(data['Position'], data['MA'])\n",
    "    ax.set(xlabel=old_cols[0], ylabel=old_cols[1], title=files[i])\n",
    "    plt.savefig('./plotted/'+files[i]+'.png', dpi=350)\n",
    "    plt.clf()"
   ]
  },
  {
   "cell_type": "markdown",
   "metadata": {},
   "source": [
    "## Plotting Single Slit BEECH7"
   ]
  },
  {
   "cell_type": "code",
   "execution_count": 77,
   "metadata": {},
   "outputs": [
    {
     "data": {
      "text/plain": [
       "0.30328086666666665"
      ]
     },
     "execution_count": 77,
     "metadata": {},
     "output_type": "execute_result"
    }
   ],
   "source": [
    "data = pd.read_csv('./lab_data/BEECH7.txt', header=1, delimiter='\\t')\n",
    "old_cols = data.columns.tolist()\n",
    "winy=150\n",
    "data = data.rename(columns={old_cols[0]:'Position', old_cols[1]:'Intensity'})\n",
    "data['MA'] = data['Intensity'].rolling(window=winy, center=True).mean()\n",
    "old_data = data.copy()\n",
    "data = data.fillna(-1111111)\n",
    "max(data['MA'])"
   ]
  },
  {
   "cell_type": "code",
   "execution_count": 78,
   "metadata": {},
   "outputs": [],
   "source": [
    "maxframe = data.loc[(data['Position'] >= -.05) & (data['Position'] <= -.03)]\n",
    "maxy = max(maxframe['MA'])\n",
    "max_row = data.loc[data['MA'] == maxy]\n",
    "max_pos = float(max_row['Position'])\n",
    "minframe = data.loc[(data['Position'] >= -.03) & (data['Position'] <= -.01)]\n",
    "miny = min(minframe['MA'])\n",
    "min_row = data.loc[data['MA'] == miny]\n",
    "min_pos = float(min_row['Position'])\n",
    "diff = abs(abs(max_pos)-abs(min_pos))\n",
    "data['MA'] = old_data['MA']"
   ]
  },
  {
   "cell_type": "code",
   "execution_count": 87,
   "metadata": {},
   "outputs": [
    {
     "data": {
      "text/plain": [
       "<Figure size 432x288 with 0 Axes>"
      ]
     },
     "metadata": {},
     "output_type": "display_data"
    }
   ],
   "source": [
    "ax = plt.gca()\n",
    "plt.plot(data['Position'], data['Intensity'], label='Raw data at gain=100')\n",
    "plt.plot(data['Position'], data['MA'], label='Rolling average window={}'.format(winy))\n",
    "# plotting important points\n",
    "plt.plot(max_pos, maxy, 'mo', label='Maxima')\n",
    "plt.plot(min_pos, miny, 'ro', label='Minima')\n",
    "ax.set(xlabel=old_cols[0], ylabel=old_cols[1], title='0.04mm Single Slit, dist={}m'.format(round(diff, 7)))\n",
    "ax.legend()\n",
    "#ax.legend('Raw data, gain=100', 'Rolling average='.format(winy), 'Max and min')\n",
    "plt.savefig('./important_bois/'+'BEECH7'+'.png', dpi=350)\n",
    "plt.clf()"
   ]
  },
  {
   "cell_type": "markdown",
   "metadata": {},
   "source": [
    "## HANGRY Plotting Double Slit a=.04mm, d=.5mm"
   ]
  },
  {
   "cell_type": "code",
   "execution_count": 245,
   "metadata": {},
   "outputs": [],
   "source": [
    "# HANGRY\n",
    "data = pd.read_csv('./lab_data/HANGRY1.txt', header=1, delimiter='\\t')\n",
    "old_cols = data.columns.tolist()\n",
    "winy=50\n",
    "data = data.rename(columns={old_cols[0]:'Position', old_cols[1]:'Intensity'})\n",
    "data['MA'] = data['Intensity'].rolling(window=winy, center=True).mean()\n",
    "old_data = data.copy()\n",
    "data = data.fillna(-1111111)"
   ]
  },
  {
   "cell_type": "code",
   "execution_count": 240,
   "metadata": {},
   "outputs": [
    {
     "data": {
      "text/plain": [
       "array([0.00022, 0.0005 , 0.00072, 0.00094])"
      ]
     },
     "execution_count": 240,
     "metadata": {},
     "output_type": "execute_result"
    }
   ],
   "source": [
    "#rows = data.loc[(data['Position']>=.005) & (data['Position']<=.007)]\n",
    "maxes = []\n",
    "for i in range(5):\n",
    "    if i == 0:\n",
    "        min_val = .005\n",
    "    else:\n",
    "        min_val = maxes[i-1][1]\n",
    "    maxes.append(max_finder42069(min_val, data))\n",
    "maxes = np.asarray(maxes)\n",
    "maxes\n",
    "dists = abs(maxes[0, 1] - maxes[1:, 1])\n",
    "dists"
   ]
  },
  {
   "cell_type": "code",
   "execution_count": 241,
   "metadata": {},
   "outputs": [],
   "source": [
    "def max_finder42069(min_val, data):\n",
    "    rows = data.loc[(data['Position']>min_val) & (data['Position']<=.008)]\n",
    "    one_max = max(rows['Intensity'])\n",
    "    one_max_pos = float(rows[rows['Intensity'] == one_max]['Position'])\n",
    "    return (one_max, one_max_pos)"
   ]
  },
  {
   "cell_type": "code",
   "execution_count": 242,
   "metadata": {},
   "outputs": [
    {
     "data": {
      "text/plain": [
       "<Figure size 432x288 with 0 Axes>"
      ]
     },
     "metadata": {},
     "output_type": "display_data"
    }
   ],
   "source": [
    "data['MA'] = old_data['MA']\n",
    "ax = plt.gca()\n",
    "plt.plot(data['Position'], data['Intensity'], label='Raw data at gain=10')\n",
    "plt.plot(data['Position'], data['MA'], label='Rolling average window={}'.format(winy))\n",
    "plt.plot(maxes[:, 1], maxes[:, 0], 'ro', label='Maximae')\n",
    "# plotting important points\n",
    "#plt.plot(max_pos, maxy, 'mo', label='Maxima')\n",
    "#plt.plot(min_pos, miny, 'ro', label='Minima')\n",
    "ax.set(xlabel=old_cols[0], ylabel=old_cols[1], title='Dbl Slit a=.04mm, d=.5mm, dist={}m'.format(dists))\n",
    "ax.legend(bbox_to_anchor = [.6, 1])\n",
    "#ax.legend('Raw data, gain=100', 'Rolling average='.format(winy), 'Max and min')\n",
    "\n",
    "plt.savefig('./important_bois/'+'HANGRY1'+'.png', dpi=350, bbox_inches='tight')\n",
    "plt.clf()"
   ]
  },
  {
   "cell_type": "code",
   "execution_count": 247,
   "metadata": {},
   "outputs": [
    {
     "name": "stdout",
     "output_type": "stream",
     "text": [
      "0.00556\n",
      "0.00889\n"
     ]
    }
   ],
   "source": [
    "data = data.fillna(11111111111)\n",
    "maxy = max(data['Intensity'])\n",
    "max_pos = float(data.loc[data['Intensity'] == maxy]['Position'])\n",
    "rows = data.loc[(data['Position']>=.008) & (data['Position']<=.0099)]\n",
    "miny = min(rows['MA'])\n",
    "min_pos = float(list(rows.loc[rows['MA'] == miny]['Position'])[0])\n",
    "dist = abs(abs(maxy_pos)-abs(miny_pos))\n",
    "print(max_pos)\n",
    "print(min_pos)"
   ]
  },
  {
   "cell_type": "code",
   "execution_count": 248,
   "metadata": {},
   "outputs": [
    {
     "data": {
      "text/plain": [
       "<Figure size 432x288 with 0 Axes>"
      ]
     },
     "metadata": {},
     "output_type": "display_data"
    }
   ],
   "source": [
    "data['MA'] = old_data['MA']\n",
    "ax = plt.gca()\n",
    "plt.plot(data['Position'], data['Intensity'], label='Raw data at gain=10')\n",
    "plt.plot(data['Position'], data['MA'], label='Rolling average window={}'.format(winy))\n",
    "# plotting important points\n",
    "plt.plot(max_pos, maxy, 'mo', label='Maxima')\n",
    "plt.plot(min_pos, miny, 'ro', label='Minima')\n",
    "ax.set(xlabel=old_cols[0], ylabel=old_cols[1], title='Dbl Slit a=.04mm, d=.25mm, dist={}m'.format(round(dist, 7)))\n",
    "ax.legend(bbox_to_anchor = [.6, 1])\n",
    "#ax.legend('Raw data, gain=100', 'Rolling average='.format(winy), 'Max and min')\n",
    "\n",
    "plt.savefig('./important_bois/'+'HANGRY1_minimmax'+'.png', dpi=350, bbox_inches='tight')\n",
    "plt.clf()"
   ]
  },
  {
   "cell_type": "markdown",
   "metadata": {},
   "source": [
    "## Plotting THICC1, a=.08mm, d=.5mm"
   ]
  },
  {
   "cell_type": "code",
   "execution_count": 227,
   "metadata": {},
   "outputs": [],
   "source": [
    "# THICC1\n",
    "data = pd.read_csv('./lab_data/THICC1.txt', header=1, delimiter='\\t')\n",
    "old_cols = data.columns.tolist()\n",
    "winy=50\n",
    "data = data.rename(columns={old_cols[0]:'Position', old_cols[1]:'Intensity'})\n",
    "data['MA'] = data['Intensity'].rolling(window=winy, center=True).mean()\n",
    "old_data = data.copy()\n",
    "data = data.fillna(-1111111)"
   ]
  },
  {
   "cell_type": "code",
   "execution_count": 228,
   "metadata": {},
   "outputs": [
    {
     "data": {
      "text/plain": [
       "array([0.00028, 0.0005 , 0.00072, 0.00095])"
      ]
     },
     "execution_count": 228,
     "metadata": {},
     "output_type": "execute_result"
    }
   ],
   "source": [
    "maxes = []\n",
    "for i in range(5):\n",
    "    if i == 0:\n",
    "        min_val = -.0055\n",
    "    else:\n",
    "        min_val = maxes[i-1][1]+.0001\n",
    "    maxes.append(max_finder42069(min_val, data))\n",
    "maxes = np.asarray(maxes)\n",
    "maxes\n",
    "dists = abs(maxes[0, 1] - maxes[1:, 1])\n",
    "dists"
   ]
  },
  {
   "cell_type": "code",
   "execution_count": 229,
   "metadata": {},
   "outputs": [
    {
     "data": {
      "text/plain": [
       "<Figure size 432x288 with 0 Axes>"
      ]
     },
     "metadata": {},
     "output_type": "display_data"
    }
   ],
   "source": [
    "data['MA'] = old_data['MA']\n",
    "ax = plt.gca()\n",
    "plt.plot(data['Position'], data['Intensity'], label='Raw data at gain=10')\n",
    "plt.plot(data['Position'], data['MA'], label='Rolling average window={}'.format(winy))\n",
    "plt.plot(maxes[:, 1], maxes[:, 0], 'ro', label='Maximae')\n",
    "# plotting important points\n",
    "#plt.plot(max_pos, maxy, 'mo', label='Maxima')\n",
    "#plt.plot(min_pos, miny, 'ro', label='Minima')\n",
    "ax.set(xlabel=old_cols[0], ylabel=old_cols[1], title='Dbl Slit a=.08mm, d=.5mm, dist={}m'.format(dists))\n",
    "ax.legend(bbox_to_anchor = [.6, 1])\n",
    "#ax.legend('Raw data, gain=100', 'Rolling average='.format(winy), 'Max and min')\n",
    "\n",
    "plt.savefig('./important_bois/'+'THICC1'+'.png', dpi=350, bbox_inches='tight')\n",
    "plt.clf()"
   ]
  },
  {
   "cell_type": "code",
   "execution_count": 237,
   "metadata": {},
   "outputs": [
    {
     "name": "stdout",
     "output_type": "stream",
     "text": [
      "-0.00478\n",
      "-0.00322\n"
     ]
    }
   ],
   "source": [
    "data = data.fillna(11111111111)\n",
    "maxy = max(data['Intensity'])\n",
    "max_pos = float(data.loc[data['Intensity'] == maxy]['Position'])\n",
    "rows = data.loc[(data['Position']>=-.004) & (data['Position']<=-.003)]\n",
    "miny = min(rows['MA'])\n",
    "min_pos = float(list(rows.loc[rows['MA'] == miny]['Position'])[0])\n",
    "dist = abs(abs(maxy_pos)-abs(miny_pos))\n",
    "print(max_pos)\n",
    "print(min_pos)"
   ]
  },
  {
   "cell_type": "code",
   "execution_count": 238,
   "metadata": {},
   "outputs": [
    {
     "data": {
      "text/plain": [
       "<Figure size 432x288 with 0 Axes>"
      ]
     },
     "metadata": {},
     "output_type": "display_data"
    }
   ],
   "source": [
    "data['MA'] = old_data['MA']\n",
    "ax = plt.gca()\n",
    "plt.plot(data['Position'], data['Intensity'], label='Raw data at gain=10')\n",
    "plt.plot(data['Position'], data['MA'], label='Rolling average window={}'.format(winy))\n",
    "# plotting important points\n",
    "plt.plot(max_pos, maxy, 'mo', label='Maxima')\n",
    "plt.plot(min_pos, miny, 'ro', label='Minima')\n",
    "ax.set(xlabel=old_cols[0], ylabel=old_cols[1], title='Dbl Slit a=.04mm, d=.25mm, dist={}m'.format(round(dist, 7)))\n",
    "ax.legend(bbox_to_anchor = [.6, 1])\n",
    "#ax.legend('Raw data, gain=100', 'Rolling average='.format(winy), 'Max and min')\n",
    "\n",
    "plt.savefig('./important_bois/'+'THICC1_minimmax'+'.png', dpi=350, bbox_inches='tight')\n",
    "plt.clf()"
   ]
  },
  {
   "cell_type": "markdown",
   "metadata": {},
   "source": [
    "## Plant a=.04mm, d=.25mm"
   ]
  },
  {
   "cell_type": "code",
   "execution_count": 176,
   "metadata": {},
   "outputs": [],
   "source": [
    "# PLANT1\n",
    "data = pd.read_csv('./lab_data/PLANT1.txt', header=1, delimiter='\\t')\n",
    "old_cols = data.columns.tolist()\n",
    "winy=350\n",
    "data = data.rename(columns={old_cols[0]:'Position', old_cols[1]:'Intensity'})\n",
    "data['MA'] = data['Intensity'].rolling(window=winy, center=True).mean()\n",
    "old_data = data.copy()\n",
    "data = data.fillna(-1111111)"
   ]
  },
  {
   "cell_type": "code",
   "execution_count": 177,
   "metadata": {},
   "outputs": [
    {
     "data": {
      "text/plain": [
       "array([0.00039, 0.00078, 0.00117, 0.00156])"
      ]
     },
     "execution_count": 177,
     "metadata": {},
     "output_type": "execute_result"
    }
   ],
   "source": [
    "maxes = []\n",
    "for i in range(5):\n",
    "    if i == 0:\n",
    "        min_val = -.0055\n",
    "    else:\n",
    "        min_val = maxes[i-1][1]+.00015\n",
    "    maxes.append(max_finder42069(min_val, data))\n",
    "maxes = np.asarray(maxes)\n",
    "maxes\n",
    "dists = abs(maxes[0, 1] - maxes[1:, 1])\n",
    "dists"
   ]
  },
  {
   "cell_type": "code",
   "execution_count": 178,
   "metadata": {},
   "outputs": [
    {
     "data": {
      "text/plain": [
       "<Figure size 432x288 with 0 Axes>"
      ]
     },
     "metadata": {},
     "output_type": "display_data"
    }
   ],
   "source": [
    "data['MA'] = old_data['MA']\n",
    "ax = plt.gca()\n",
    "plt.plot(data['Position'], data['Intensity'], label='Raw data at gain=10')\n",
    "plt.plot(data['Position'], data['MA'], label='Rolling average window={}'.format(winy))\n",
    "plt.plot(maxes[:, 1], maxes[:, 0], 'ro', label='Maximae')\n",
    "# plotting important points\n",
    "#plt.plot(max_pos, maxy, 'mo', label='Maxima')\n",
    "#plt.plot(min_pos, miny, 'ro', label='Minima')\n",
    "ax.set(xlabel=old_cols[0], ylabel=old_cols[1], title='Dbl Slit a=.04mm, d=.25mm, dist={}m'.format(dists))\n",
    "ax.legend(bbox_to_anchor = [.6, 1])\n",
    "#ax.legend('Raw data, gain=100', 'Rolling average='.format(winy), 'Max and min')\n",
    "\n",
    "plt.savefig('./important_bois/'+'PLANT1'+'.png', dpi=350, bbox_inches='tight')\n",
    "plt.clf()"
   ]
  },
  {
   "cell_type": "markdown",
   "metadata": {},
   "source": [
    "PLANT1 Double Slit first maxima to first diffraction minima"
   ]
  },
  {
   "cell_type": "code",
   "execution_count": 194,
   "metadata": {},
   "outputs": [],
   "source": [
    "data = pd.read_csv('./lab_data/PLANT1.txt', header=1, delimiter='\\t')\n",
    "old_cols = data.columns.tolist()\n",
    "winy=50\n",
    "data = data.rename(columns={old_cols[0]:'Position', old_cols[1]:'Intensity'})\n",
    "data['MA'] = data['Intensity'].rolling(window=winy, center=True).mean()\n",
    "old_data = data.copy()"
   ]
  },
  {
   "cell_type": "code",
   "execution_count": 218,
   "metadata": {},
   "outputs": [
    {
     "data": {
      "text/plain": [
       "0.00844"
      ]
     },
     "execution_count": 218,
     "metadata": {},
     "output_type": "execute_result"
    }
   ],
   "source": [
    "data = data.fillna(11111111111)\n",
    "maxy = max(data['Intensity'])\n",
    "max_pos = float(data.loc[data['Intensity'] == maxy]['Position'])\n",
    "rows = data.loc[(data['Position']>.007) & (data['Position']<=.0085)]\n",
    "miny = min(rows['MA'])\n",
    "min_pos = float(list(rows.loc[rows['MA'] == miny]['Position'])[0])\n",
    "dist = abs(abs(maxy_pos)-abs(miny_pos))"
   ]
  },
  {
   "cell_type": "code",
   "execution_count": 220,
   "metadata": {},
   "outputs": [
    {
     "data": {
      "text/plain": [
       "<Figure size 432x288 with 0 Axes>"
      ]
     },
     "metadata": {},
     "output_type": "display_data"
    }
   ],
   "source": [
    "data['MA'] = old_data['MA']\n",
    "ax = plt.gca()\n",
    "plt.plot(data['Position'], data['Intensity'], label='Raw data at gain=10')\n",
    "plt.plot(data['Position'], data['MA'], label='Rolling average window={}'.format(winy))\n",
    "# plotting important points\n",
    "plt.plot(max_pos, maxy, 'mo', label='Maxima')\n",
    "plt.plot(min_pos, miny, 'ro', label='Minima')\n",
    "ax.set(xlabel=old_cols[0], ylabel=old_cols[1], title='Dbl Slit a=.04mm, d=.25mm, dist={}m'.format(round(dist, 5)))\n",
    "ax.legend(bbox_to_anchor = [.6, 1])\n",
    "#ax.legend('Raw data, gain=100', 'Rolling average='.format(winy), 'Max and min')\n",
    "\n",
    "plt.savefig('./important_bois/'+'PLANT1_minimmax'+'.png', dpi=350, bbox_inches='tight')\n",
    "plt.clf()"
   ]
  },
  {
   "cell_type": "markdown",
   "metadata": {},
   "source": [
    "# Fitting"
   ]
  },
  {
   "cell_type": "code",
   "execution_count": 369,
   "metadata": {},
   "outputs": [],
   "source": [
    "import math\n",
    "def intense(theta, lamb, a, i_not):\n",
    "    #i_not is at theta = math.asin(lamb/a)\n",
    "    print(type(theta))\n",
    "    phi = 1.0 * np.sin(theta)*a*math.pi/lamb\n",
    "    result = 1.0 * i_not*((np.sin(phi)/(phi))**2)\n",
    "    return result"
   ]
  },
  {
   "cell_type": "code",
   "execution_count": 382,
   "metadata": {},
   "outputs": [],
   "source": [
    "data = pd.read_csv('./lab_data/BEECH7.txt', header=1, delimiter='\\t')\n",
    "old_cols = data.columns.tolist()\n",
    "winy=250\n",
    "data = data.rename(columns={old_cols[0]:'Position', old_cols[1]:'Intensity'})\n",
    "# calibrate intensity\n",
    "data['Intensity'] = 0.0231162 + data['Intensity']\n",
    "data['MA'] = data['Intensity'].rolling(window=winy, center=True).mean()\n",
    "old_data = data.copy()"
   ]
  },
  {
   "cell_type": "code",
   "execution_count": 383,
   "metadata": {},
   "outputs": [
    {
     "name": "stdout",
     "output_type": "stream",
     "text": [
      "0.3232582\n"
     ]
    }
   ],
   "source": [
    "data = data.fillna(-1111111)\n",
    "i_not = max(data['MA'])\n",
    "print(i_not)\n",
    "centre = float(data.loc[data['MA'] == i_not]['Position'])\n",
    "a = .04 # mm\n",
    "a = .00004 # meters\n",
    "lamb = 650 # nm assuming its perfect\n",
    "lamb = 700*(10**(-9))  # in meters\n",
    "b = 1.035 - .08 # meters\n",
    "\n",
    "data['Relative Position'] = abs(abs(np.asarray(data['Position'])) - abs(centre))\n",
    "# theta = atan(rel_pos/b)\n",
    "data['theta'] = np.arctan(data['Relative Position']/b)"
   ]
  },
  {
   "cell_type": "code",
   "execution_count": 391,
   "metadata": {},
   "outputs": [
    {
     "name": "stdout",
     "output_type": "stream",
     "text": [
      "<class 'numpy.ndarray'>\n"
     ]
    },
    {
     "name": "stderr",
     "output_type": "stream",
     "text": [
      "<ipython-input-369-d51c31a7e9d1>:6: RuntimeWarning: invalid value encountered in true_divide\n",
      "  result = 1.0 * i_not*((np.sin(phi)/(phi))**2)\n"
     ]
    }
   ],
   "source": [
    "data['Intense fit'] = intense(np.asarray(data['theta']), lamb, a, .33)"
   ]
  },
  {
   "cell_type": "code",
   "execution_count": 392,
   "metadata": {},
   "outputs": [
    {
     "data": {
      "text/html": [
       "<div>\n",
       "<style scoped>\n",
       "    .dataframe tbody tr th:only-of-type {\n",
       "        vertical-align: middle;\n",
       "    }\n",
       "\n",
       "    .dataframe tbody tr th {\n",
       "        vertical-align: top;\n",
       "    }\n",
       "\n",
       "    .dataframe thead th {\n",
       "        text-align: right;\n",
       "    }\n",
       "</style>\n",
       "<table border=\"1\" class=\"dataframe\">\n",
       "  <thead>\n",
       "    <tr style=\"text-align: right;\">\n",
       "      <th></th>\n",
       "      <th>Position</th>\n",
       "      <th>Intensity</th>\n",
       "      <th>MA</th>\n",
       "      <th>Relative Position</th>\n",
       "      <th>theta</th>\n",
       "      <th>Intense fit</th>\n",
       "    </tr>\n",
       "  </thead>\n",
       "  <tbody>\n",
       "    <tr>\n",
       "      <th>0</th>\n",
       "      <td>0.00000</td>\n",
       "      <td>-0.000634</td>\n",
       "      <td>NaN</td>\n",
       "      <td>0.03889</td>\n",
       "      <td>0.040700</td>\n",
       "      <td>0.004498</td>\n",
       "    </tr>\n",
       "    <tr>\n",
       "      <th>1</th>\n",
       "      <td>0.00000</td>\n",
       "      <td>0.003546</td>\n",
       "      <td>NaN</td>\n",
       "      <td>0.03889</td>\n",
       "      <td>0.040700</td>\n",
       "      <td>0.004498</td>\n",
       "    </tr>\n",
       "    <tr>\n",
       "      <th>2</th>\n",
       "      <td>0.00000</td>\n",
       "      <td>0.003386</td>\n",
       "      <td>NaN</td>\n",
       "      <td>0.03889</td>\n",
       "      <td>0.040700</td>\n",
       "      <td>0.004498</td>\n",
       "    </tr>\n",
       "    <tr>\n",
       "      <th>3</th>\n",
       "      <td>-0.00006</td>\n",
       "      <td>0.002906</td>\n",
       "      <td>NaN</td>\n",
       "      <td>0.03883</td>\n",
       "      <td>0.040637</td>\n",
       "      <td>0.004449</td>\n",
       "    </tr>\n",
       "    <tr>\n",
       "      <th>4</th>\n",
       "      <td>-0.00006</td>\n",
       "      <td>0.005806</td>\n",
       "      <td>NaN</td>\n",
       "      <td>0.03883</td>\n",
       "      <td>0.040637</td>\n",
       "      <td>0.004449</td>\n",
       "    </tr>\n",
       "    <tr>\n",
       "      <th>...</th>\n",
       "      <td>...</td>\n",
       "      <td>...</td>\n",
       "      <td>...</td>\n",
       "      <td>...</td>\n",
       "      <td>...</td>\n",
       "      <td>...</td>\n",
       "    </tr>\n",
       "    <tr>\n",
       "      <th>4419</th>\n",
       "      <td>-0.09028</td>\n",
       "      <td>0.001456</td>\n",
       "      <td>NaN</td>\n",
       "      <td>0.05139</td>\n",
       "      <td>0.053760</td>\n",
       "      <td>0.000171</td>\n",
       "    </tr>\n",
       "    <tr>\n",
       "      <th>4420</th>\n",
       "      <td>-0.09033</td>\n",
       "      <td>0.003226</td>\n",
       "      <td>NaN</td>\n",
       "      <td>0.05144</td>\n",
       "      <td>0.053812</td>\n",
       "      <td>0.000185</td>\n",
       "    </tr>\n",
       "    <tr>\n",
       "      <th>4421</th>\n",
       "      <td>-0.09033</td>\n",
       "      <td>0.002426</td>\n",
       "      <td>NaN</td>\n",
       "      <td>0.05144</td>\n",
       "      <td>0.053812</td>\n",
       "      <td>0.000185</td>\n",
       "    </tr>\n",
       "    <tr>\n",
       "      <th>4422</th>\n",
       "      <td>-0.09039</td>\n",
       "      <td>0.004836</td>\n",
       "      <td>NaN</td>\n",
       "      <td>0.05150</td>\n",
       "      <td>0.053875</td>\n",
       "      <td>0.000203</td>\n",
       "    </tr>\n",
       "    <tr>\n",
       "      <th>4423</th>\n",
       "      <td>-0.09039</td>\n",
       "      <td>0.001456</td>\n",
       "      <td>NaN</td>\n",
       "      <td>0.05150</td>\n",
       "      <td>0.053875</td>\n",
       "      <td>0.000203</td>\n",
       "    </tr>\n",
       "  </tbody>\n",
       "</table>\n",
       "<p>4424 rows × 6 columns</p>\n",
       "</div>"
      ],
      "text/plain": [
       "      Position  Intensity  MA  Relative Position     theta  Intense fit\n",
       "0      0.00000  -0.000634 NaN            0.03889  0.040700     0.004498\n",
       "1      0.00000   0.003546 NaN            0.03889  0.040700     0.004498\n",
       "2      0.00000   0.003386 NaN            0.03889  0.040700     0.004498\n",
       "3     -0.00006   0.002906 NaN            0.03883  0.040637     0.004449\n",
       "4     -0.00006   0.005806 NaN            0.03883  0.040637     0.004449\n",
       "...        ...        ...  ..                ...       ...          ...\n",
       "4419  -0.09028   0.001456 NaN            0.05139  0.053760     0.000171\n",
       "4420  -0.09033   0.003226 NaN            0.05144  0.053812     0.000185\n",
       "4421  -0.09033   0.002426 NaN            0.05144  0.053812     0.000185\n",
       "4422  -0.09039   0.004836 NaN            0.05150  0.053875     0.000203\n",
       "4423  -0.09039   0.001456 NaN            0.05150  0.053875     0.000203\n",
       "\n",
       "[4424 rows x 6 columns]"
      ]
     },
     "execution_count": 392,
     "metadata": {},
     "output_type": "execute_result"
    }
   ],
   "source": [
    "data"
   ]
  },
  {
   "cell_type": "code",
   "execution_count": 394,
   "metadata": {},
   "outputs": [
    {
     "data": {
      "text/plain": [
       "<Figure size 432x288 with 0 Axes>"
      ]
     },
     "metadata": {},
     "output_type": "display_data"
    }
   ],
   "source": [
    "ax = plt.gca()\n",
    "data['MA'] = old_data['MA']\n",
    "plt.plot(data['Position'], data['Intensity'], label='Raw data at gain=100')\n",
    "#plt.plot(data['Position'], data['MA'], label='MA')\n",
    "plt.plot(data['Position'], data['Intense fit'], label='Eqn 3 fit'.format(winy))\n",
    "#plt.plot(data['Position'], data['Relative Position'])\n",
    "#plt.plot(data['Position'], data['theta'])\n",
    "# plotting important points\n",
    "ax.set(xlabel=old_cols[0], ylabel=old_cols[1], title='Single Slit a=.04mm, dist={}m'.format(round(dist, 5)))\n",
    "ax.legend(bbox_to_anchor = [.6, 1])\n",
    "#ax.legend('Raw data, gain=100', 'Rolling average='.format(winy), 'Max and min')\n",
    "\n",
    "plt.savefig('./important_bois/'+'BEECH_fir'+'.png', dpi=350, bbox_inches='tight')\n",
    "plt.clf()"
   ]
  },
  {
   "cell_type": "code",
   "execution_count": 356,
   "metadata": {},
   "outputs": [
    {
     "data": {
      "text/plain": [
       "-0.0231162"
      ]
     },
     "execution_count": 356,
     "metadata": {},
     "output_type": "execute_result"
    }
   ],
   "source": [
    "data = data.fillna(0)\n",
    "min(data['MA'])"
   ]
  },
  {
   "cell_type": "code",
   "execution_count": null,
   "metadata": {},
   "outputs": [],
   "source": []
  }
 ],
 "metadata": {
  "kernelspec": {
   "display_name": "Torch",
   "language": "python",
   "name": "torch"
  },
  "language_info": {
   "codemirror_mode": {
    "name": "ipython",
    "version": 3
   },
   "file_extension": ".py",
   "mimetype": "text/x-python",
   "name": "python",
   "nbconvert_exporter": "python",
   "pygments_lexer": "ipython3",
   "version": "3.8.3"
  }
 },
 "nbformat": 4,
 "nbformat_minor": 4
}
