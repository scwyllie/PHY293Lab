{
 "cells": [
  {
   "cell_type": "code",
   "execution_count": 3,
   "metadata": {},
   "outputs": [],
   "source": [
    "from matplotlib import pyplot as plt\n",
    "import numpy as np\n",
    "import pandas as pd\n",
    "import os"
   ]
  },
  {
   "cell_type": "code",
   "execution_count": 112,
   "metadata": {},
   "outputs": [
    {
     "data": {
      "text/plain": [
       "['DATA1.txt',\n",
       " 'DATA2.txt',\n",
       " 'DATA3.txt',\n",
       " 'DATA4.txt',\n",
       " 'DATA5.txt',\n",
       " 'DATA6.txt',\n",
       " 'DATA7.txt',\n",
       " 'DATA8.txt',\n",
       " 'DATA9.txt',\n",
       " 'HANGRY1.txt',\n",
       " 'HANGRY2.txt',\n",
       " 'PLANT1.txt',\n",
       " 'PLANT2.txt',\n",
       " 'PLANT3.txt',\n",
       " 'PLANT4.txt',\n",
       " 'THICC1.txt',\n",
       " 'THICC2.txt',\n",
       " 'THICC3.txt']"
      ]
     },
     "execution_count": 112,
     "metadata": {},
     "output_type": "execute_result"
    }
   ],
   "source": [
    "files = list(os.listdir('./lab_data/'))\n",
    "files.sort()\n",
    "files"
   ]
  },
  {
   "cell_type": "code",
   "execution_count": 115,
   "metadata": {},
   "outputs": [
    {
     "data": {
      "text/plain": [
       "<Figure size 432x288 with 0 Axes>"
      ]
     },
     "metadata": {},
     "output_type": "display_data"
    }
   ],
   "source": [
    "for i in range(len(files)):\n",
    "    data = pd.read_csv('./lab_data/{}'.format(files[i]), header=1, delimiter='\\t')\n",
    "    old_cols = data.columns.tolist()\n",
    "    data = data.rename(columns={old_cols[0]:'Position', old_cols[1]:'Intensity'})\n",
    "    data[\"MA\"] = data[\"Intensity\"].rolling(window=150, center=True).mean()\n",
    "    ax = plt.gca()\n",
    "    plt.plot(data['Position'], data['Intensity'])\n",
    "    plt.plot(data['Position'], data['MA'])\n",
    "    ax.set(xlabel=old_cols[0], ylabel=old_cols[1], title=files[i])\n",
    "    plt.savefig(files[i]+'.png')\n",
    "    plt.clf()"
   ]
  },
  {
   "cell_type": "code",
   "execution_count": null,
   "metadata": {},
   "outputs": [],
   "source": []
  },
  {
   "cell_type": "code",
   "execution_count": null,
   "metadata": {},
   "outputs": [],
   "source": []
  }
 ],
 "metadata": {
  "kernelspec": {
   "display_name": "Torch",
   "language": "python",
   "name": "torch"
  },
  "language_info": {
   "codemirror_mode": {
    "name": "ipython",
    "version": 3
   },
   "file_extension": ".py",
   "mimetype": "text/x-python",
   "name": "python",
   "nbconvert_exporter": "python",
   "pygments_lexer": "ipython3",
   "version": "3.8.3"
  }
 },
 "nbformat": 4,
 "nbformat_minor": 4
}
