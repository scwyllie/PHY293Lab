{
 "cells": [
  {
   "cell_type": "code",
   "execution_count": 2,
   "metadata": {},
   "outputs": [],
   "source": [
    "from matplotlib import pyplot as plt\n",
    "import numpy as np\n",
    "import pandas as pd\n",
    "import os"
   ]
  },
  {
   "cell_type": "markdown",
   "metadata": {},
   "source": [
    "Plotting all:"
   ]
  },
  {
   "cell_type": "code",
   "execution_count": 88,
   "metadata": {},
   "outputs": [],
   "source": [
    "files = list(os.listdir('./lab_data/'))\n",
    "files.sort()\n"
   ]
  },
  {
   "cell_type": "code",
   "execution_count": 62,
   "metadata": {},
   "outputs": [
    {
     "data": {
      "text/plain": [
       "<Figure size 432x288 with 0 Axes>"
      ]
     },
     "metadata": {},
     "output_type": "display_data"
    }
   ],
   "source": [
    "for i in range(len(files)):\n",
    "    data = pd.read_csv('./lab_data/{}'.format(files[i]), header=1, delimiter='\\t')\n",
    "    old_cols = data.columns.tolist()\n",
    "    data = data.rename(columns={old_cols[0]:'Position', old_cols[1]:'Intensity'})\n",
    "    # moving average\n",
    "    data[\"MA\"] = data[\"Intensity\"].rolling(window=150, center=True).mean()\n",
    "    ax = plt.gca()\n",
    "    plt.plot(data['Position'], data['Intensity'])\n",
    "    plt.plot(data['Position'], data['MA'])\n",
    "    ax.set(xlabel=old_cols[0], ylabel=old_cols[1], title=files[i])\n",
    "    plt.savefig('./plotted/'+files[i]+'.png', dpi=350)\n",
    "    plt.clf()"
   ]
  },
  {
   "cell_type": "markdown",
   "metadata": {},
   "source": [
    "## Plotting Single Slit BEECH7"
   ]
  },
  {
   "cell_type": "code",
   "execution_count": 662,
   "metadata": {},
   "outputs": [
    {
     "data": {
      "text/plain": [
       "0.30328086666666665"
      ]
     },
     "execution_count": 662,
     "metadata": {},
     "output_type": "execute_result"
    }
   ],
   "source": [
    "data = pd.read_csv('./lab_data/BEECH7.txt', header=1, delimiter='\\t')\n",
    "old_cols = data.columns.tolist()\n",
    "winy=150\n",
    "data = data.rename(columns={old_cols[0]:'Position', old_cols[1]:'Intensity'})\n",
    "data['MA'] = data['Intensity'].rolling(window=winy, center=True).mean()\n",
    "old_data = data.copy()\n",
    "data = data.fillna(-1111111)\n",
    "max(data['MA'])"
   ]
  },
  {
   "cell_type": "code",
   "execution_count": 663,
   "metadata": {},
   "outputs": [],
   "source": [
    "maxframe = data.loc[(data['Position'] >= -.05) & (data['Position'] <= -.03)]\n",
    "maxy = max(maxframe['MA'])\n",
    "max_row = data.loc[data['MA'] == maxy]\n",
    "max_pos = float(max_row['Position'])\n",
    "minframe = data.loc[(data['Position'] >= -.03) & (data['Position'] <= -.01)]\n",
    "miny = min(minframe['MA'])\n",
    "min_row = data.loc[data['MA'] == miny]\n",
    "min_pos = float(min_row['Position'])\n",
    "diff = abs(abs(max_pos)-abs(min_pos))\n",
    "data['MA'] = old_data['MA']"
   ]
  },
  {
   "cell_type": "code",
   "execution_count": 87,
   "metadata": {},
   "outputs": [
    {
     "data": {
      "text/plain": [
       "<Figure size 432x288 with 0 Axes>"
      ]
     },
     "metadata": {},
     "output_type": "display_data"
    }
   ],
   "source": [
    "ax = plt.gca()\n",
    "plt.plot(data['Position'], data['Intensity'], label='Raw data at gain=100')\n",
    "plt.plot(data['Position'], data['MA'], label='Rolling average window={}'.format(winy))\n",
    "# plotting important points\n",
    "plt.plot(max_pos, maxy, 'mo', label='Maxima')\n",
    "plt.plot(min_pos, miny, 'ro', label='Minima')\n",
    "ax.set(xlabel=old_cols[0], ylabel=old_cols[1], title='0.04mm Single Slit, dist={}m'.format(round(diff, 7)))\n",
    "ax.legend()\n",
    "#ax.legend('Raw data, gain=100', 'Rolling average='.format(winy), 'Max and min')\n",
    "plt.savefig('./important_bois/'+'BEECH7'+'.png', dpi=350)\n",
    "plt.clf()"
   ]
  },
  {
   "cell_type": "code",
   "execution_count": 676,
   "metadata": {},
   "outputs": [
    {
     "data": {
      "text/plain": [
       "<Figure size 432x288 with 0 Axes>"
      ]
     },
     "metadata": {},
     "output_type": "display_data"
    }
   ],
   "source": [
    "# BEECH1\n",
    "data = pd.read_csv('./lab_data/BEECH1.txt', header=1, delimiter='\\t')\n",
    "old_cols = data.columns.tolist()\n",
    "winy=50\n",
    "data = data.rename(columns={old_cols[0]:'Position', old_cols[1]:'Intensity'})\n",
    "data['MA'] = data['Intensity'].rolling(window=winy, center=True).mean()\n",
    "old_data = data.copy()\n",
    "data = data.fillna(-1111111)\n",
    "max(data['MA'])\n",
    "maxframe = data.loc[(data['Position'] >= .0139) & (data['Position'] <= .0140)]\n",
    "maxy = max(maxframe['MA'])\n",
    "max_row = data.loc[data['MA'] == maxy]\n",
    "max_pos = float(max_row['Position'])\n",
    "minframe = data.loc[(data['Position'] >= .017) & (data['Position'] <= .02)]\n",
    "miny = min(minframe['MA'])\n",
    "min_row = data.loc[data['MA'] == miny]\n",
    "min_pos = float(min_row['Position'])\n",
    "diff = abs(abs(max_pos)-abs(min_pos))\n",
    "data['MA'] = old_data['MA']\n",
    "ax = plt.gca()\n",
    "plt.plot(data['Position'], data['Intensity'], label='Raw data at gain=100')\n",
    "plt.plot(data['Position'], data['MA'], label='Rolling average window={}'.format(winy))\n",
    "# plotting important points\n",
    "plt.plot(max_pos, maxy, 'mo', label='Maxima')\n",
    "plt.plot(min_pos, miny, 'ro', label='Minima')\n",
    "ax.set(xlabel=old_cols[0], ylabel=old_cols[1], title='0.16mm Single Slit, dist={}m'.format(round(diff, 7)))\n",
    "ax.legend()\n",
    "#ax.legend('Raw data, gain=100', 'Rolling average='.format(winy), 'Max and min')\n",
    "plt.savefig('./important_bois/'+'BEECH1'+'.png', dpi=350)\n",
    "plt.clf()"
   ]
  },
  {
   "cell_type": "code",
   "execution_count": 680,
   "metadata": {},
   "outputs": [
    {
     "data": {
      "text/plain": [
       "<Figure size 432x288 with 0 Axes>"
      ]
     },
     "metadata": {},
     "output_type": "display_data"
    }
   ],
   "source": [
    "# BEECH3\n",
    "data = pd.read_csv('./lab_data/BEECH3.txt', header=1, delimiter='\\t')\n",
    "old_cols = data.columns.tolist()\n",
    "winy=100\n",
    "data = data.rename(columns={old_cols[0]:'Position', old_cols[1]:'Intensity'})\n",
    "data['MA'] = data['Intensity'].rolling(window=winy, center=True).mean()\n",
    "old_data = data.copy()\n",
    "data = data.fillna(-1111111)\n",
    "max(data['MA'])\n",
    "maxframe = data.loc[(data['Position'] >= -.03) & (data['Position'] <= -.02)]\n",
    "maxy = max(maxframe['MA'])\n",
    "max_row = data.loc[data['MA'] == maxy]\n",
    "max_pos = float(max_row['Position'])\n",
    "minframe = data.loc[(data['Position'] >= -.02) & (data['Position'] <= -.015)]\n",
    "miny = min(minframe['MA'])\n",
    "min_row = data.loc[data['MA'] == miny]\n",
    "min_pos = float(min_row['Position'])\n",
    "diff = abs(abs(max_pos)-abs(min_pos))\n",
    "data['MA'] = old_data['MA']\n",
    "ax = plt.gca()\n",
    "plt.plot(data['Position'], data['Intensity'], label='Raw data at gain=10')\n",
    "plt.plot(data['Position'], data['MA'], label='Rolling average window={}'.format(winy))\n",
    "# plotting important points\n",
    "plt.plot(max_pos, maxy, 'mo', label='Maxima')\n",
    "plt.plot(min_pos, miny, 'ro', label='Minima')\n",
    "ax.set(xlabel=old_cols[0], ylabel=old_cols[1], title='0.08mm Single Slit, dist={}m'.format(round(diff, 7)))\n",
    "ax.legend()\n",
    "#ax.legend('Raw data, gain=100', 'Rolling average='.format(winy), 'Max and min')\n",
    "plt.savefig('./important_bois/'+'BEECH3'+'.png', dpi=350)\n",
    "plt.clf()"
   ]
  },
  {
   "cell_type": "markdown",
   "metadata": {},
   "source": [
    "## HANGRY Plotting Double Slit a=.04mm, d=.5mm"
   ]
  },
  {
   "cell_type": "code",
   "execution_count": 778,
   "metadata": {},
   "outputs": [],
   "source": [
    "# HANGRY\n",
    "data = pd.read_csv('./lab_data/HANGRY1.txt', header=1, delimiter='\\t')\n",
    "old_cols = data.columns.tolist()\n",
    "winy=50\n",
    "data = data.rename(columns={old_cols[0]:'Position', old_cols[1]:'Intensity'})\n",
    "data['MA'] = data['Intensity'].rolling(window=winy, center=True).mean()\n",
    "old_data = data.copy()\n",
    "data = data.fillna(-1111111)\n",
    "minrows = data.loc[(data['Position']>.008) & (data['Position']<.01)]"
   ]
  },
  {
   "cell_type": "code",
   "execution_count": 779,
   "metadata": {},
   "outputs": [
    {
     "data": {
      "text/plain": [
       "0.00844"
      ]
     },
     "execution_count": 779,
     "metadata": {},
     "output_type": "execute_result"
    }
   ],
   "source": [
    "min_pos"
   ]
  },
  {
   "cell_type": "code",
   "execution_count": 780,
   "metadata": {},
   "outputs": [
    {
     "data": {
      "text/plain": [
       "array([0.00022, 0.0005 , 0.00072, 0.00094])"
      ]
     },
     "execution_count": 780,
     "metadata": {},
     "output_type": "execute_result"
    }
   ],
   "source": [
    "#rows = data.loc[(data['Position']>=.005) & (data['Position']<=.007)]\n",
    "maxes = []\n",
    "for i in range(5):\n",
    "    if i == 0:\n",
    "        min_val = .005\n",
    "    else:\n",
    "        min_val = maxes[i-1][1]\n",
    "    maxes.append(max_finder42069(min_val, data))\n",
    "maxes = np.asarray(maxes)\n",
    "maxes\n",
    "dists = abs(maxes[0, 1] - maxes[1:, 1])\n",
    "dists"
   ]
  },
  {
   "cell_type": "code",
   "execution_count": 781,
   "metadata": {},
   "outputs": [],
   "source": [
    "def max_finder42069(min_val, data):\n",
    "    rows = data.loc[(data['Position']>min_val) & (data['Position']<=.008)]\n",
    "    one_max = max(rows['Intensity'])\n",
    "    one_max_pos = float(rows[rows['Intensity'] == one_max]['Position'])\n",
    "    return (one_max, one_max_pos)"
   ]
  },
  {
   "cell_type": "code",
   "execution_count": 782,
   "metadata": {},
   "outputs": [
    {
     "data": {
      "text/plain": [
       "<Figure size 432x288 with 0 Axes>"
      ]
     },
     "metadata": {},
     "output_type": "display_data"
    }
   ],
   "source": [
    "data['MA'] = old_data['MA']\n",
    "ax = plt.gca()\n",
    "plt.plot(data['Position'], data['Intensity'], label='Raw data at gain=10')\n",
    "plt.plot(data['Position'], data['MA'], label='Rolling average window={}'.format(winy))\n",
    "plt.plot(maxes[:, 1], maxes[:, 0], 'ro', label='Maximae')\n",
    "# plotting important points\n",
    "#plt.plot(max_pos, maxy, 'mo', label='Maxima')\n",
    "plt.plot(min_pos, miny, 'ro', label='Minima')\n",
    "ax.set(xlabel=old_cols[0], ylabel=old_cols[1], title='Dbl Slit a=.04mm, d=.5mm, dist={}m'.format(dists))\n",
    "ax.legend(bbox_to_anchor = [.6, 1])\n",
    "#ax.legend('Raw data, gain=100', 'Rolling average='.format(winy), 'Max and min')\n",
    "\n",
    "plt.savefig('./important_bois/'+'HANGRY1'+'.png', dpi=350, bbox_inches='tight')\n",
    "plt.clf()"
   ]
  },
  {
   "cell_type": "code",
   "execution_count": 783,
   "metadata": {},
   "outputs": [
    {
     "name": "stdout",
     "output_type": "stream",
     "text": [
      "0.00556\n",
      "0.00889\n",
      "0.0033300000000000005\n"
     ]
    }
   ],
   "source": [
    "data = data.fillna(11111111111)\n",
    "maxy = max(data['Intensity'])\n",
    "max_pos = float(data.loc[data['Intensity'] == maxy]['Position'])\n",
    "rows = data.loc[(data['Position']>=.008) & (data['Position']<=.0099)]\n",
    "miny = min(rows['MA'])\n",
    "min_pos = float(list(rows.loc[rows['MA'] == miny]['Position'])[0])\n",
    "dist = abs(abs(max_pos)-abs(min_pos))\n",
    "print(max_pos)\n",
    "print(min_pos)\n",
    "print(dist)"
   ]
  },
  {
   "cell_type": "code",
   "execution_count": 796,
   "metadata": {},
   "outputs": [
    {
     "data": {
      "text/plain": [
       "<Figure size 432x288 with 0 Axes>"
      ]
     },
     "metadata": {},
     "output_type": "display_data"
    }
   ],
   "source": [
    "data['MA'] = old_data['MA']\n",
    "ax = plt.gca()\n",
    "plt.plot(data['Position'], data['Intensity'], label='Raw data at gain=10')\n",
    "plt.plot(data['Position'], data['MA'], label='Rolling average window={}'.format(winy))\n",
    "plt.plot(maxes[:, 1], maxes[:, 0], 'ro', label='Maximae')\n",
    "# plotting important points\n",
    "plt.plot(max_pos, maxy, 'mo', label='Maxima')\n",
    "plt.plot(min_pos, miny, 'co', label='Minima')\n",
    "ax.set(xlabel=old_cols[0], ylabel=old_cols[1], title='Dbl Slit a=.04mm, d=.5mm, dists={}m, dist={}m'.format(dists, round(dist, 7)))\n",
    "ax.legend(bbox_to_anchor = [.6, 1])\n",
    "#ax.legend('Raw data, gain=100', 'Rolling average='.format(winy), 'Max and min')\n",
    "\n",
    "plt.savefig('./important_bois/'+'HANGRY1_minimmax'+'.png', dpi=350, bbox_inches='tight')\n",
    "plt.clf()"
   ]
  },
  {
   "cell_type": "markdown",
   "metadata": {},
   "source": [
    "## Plotting THICC1, a=.08mm, d=.5mm"
   ]
  },
  {
   "cell_type": "code",
   "execution_count": 785,
   "metadata": {},
   "outputs": [],
   "source": [
    "# THICC1\n",
    "data = pd.read_csv('./lab_data/THICC1.txt', header=1, delimiter='\\t')\n",
    "old_cols = data.columns.tolist()\n",
    "winy=50\n",
    "data = data.rename(columns={old_cols[0]:'Position', old_cols[1]:'Intensity'})\n",
    "data['MA'] = data['Intensity'].rolling(window=winy, center=True).mean()\n",
    "old_data = data.copy()\n",
    "data = data.fillna(-1111111)"
   ]
  },
  {
   "cell_type": "code",
   "execution_count": 786,
   "metadata": {},
   "outputs": [
    {
     "data": {
      "text/plain": [
       "array([0.00028, 0.0005 , 0.00072, 0.00095])"
      ]
     },
     "execution_count": 786,
     "metadata": {},
     "output_type": "execute_result"
    }
   ],
   "source": [
    "maxes = []\n",
    "for i in range(5):\n",
    "    if i == 0:\n",
    "        min_val = -.0055\n",
    "    else:\n",
    "        min_val = maxes[i-1][1]+.0001\n",
    "    maxes.append(max_finder42069(min_val, data))\n",
    "maxes = np.asarray(maxes)\n",
    "maxes\n",
    "dists = abs(maxes[0, 1] - maxes[1:, 1])\n",
    "dists"
   ]
  },
  {
   "cell_type": "code",
   "execution_count": 787,
   "metadata": {},
   "outputs": [
    {
     "data": {
      "text/plain": [
       "<Figure size 432x288 with 0 Axes>"
      ]
     },
     "metadata": {},
     "output_type": "display_data"
    }
   ],
   "source": [
    "data['MA'] = old_data['MA']\n",
    "ax = plt.gca()\n",
    "plt.plot(data['Position'], data['Intensity'], label='Raw data at gain=10')\n",
    "plt.plot(data['Position'], data['MA'], label='Rolling average window={}'.format(winy))\n",
    "plt.plot(maxes[:, 1], maxes[:, 0], 'ro', label='Maximae')\n",
    "# plotting important points\n",
    "#plt.plot(max_pos, maxy, 'mo', label='Maxima')\n",
    "#plt.plot(min_pos, miny, 'ro', label='Minima')\n",
    "ax.set(xlabel=old_cols[0], ylabel=old_cols[1], title='Dbl Slit a=.08mm, d=.5mm, dist={}m'.format(dists))\n",
    "ax.legend(bbox_to_anchor = [.6, 1])\n",
    "#ax.legend('Raw data, gain=100', 'Rolling average='.format(winy), 'Max and min')\n",
    "\n",
    "plt.savefig('./important_bois/'+'THICC1'+'.png', dpi=350, bbox_inches='tight')\n",
    "plt.clf()"
   ]
  },
  {
   "cell_type": "code",
   "execution_count": 788,
   "metadata": {},
   "outputs": [
    {
     "name": "stdout",
     "output_type": "stream",
     "text": [
      "-0.00478\n",
      "-0.00322\n",
      "0.0015600000000000002\n"
     ]
    }
   ],
   "source": [
    "data = data.fillna(11111111111)\n",
    "maxy = max(data['Intensity'])\n",
    "max_pos = float(data.loc[data['Intensity'] == maxy]['Position'])\n",
    "rows = data.loc[(data['Position']>=-.004) & (data['Position']<=-.003)]\n",
    "miny = min(rows['MA'])\n",
    "min_pos = float(list(rows.loc[rows['MA'] == miny]['Position'])[0])\n",
    "dist = abs(abs(max_pos)-abs(min_pos))\n",
    "print(max_pos)\n",
    "print(min_pos)\n",
    "print(dist)"
   ]
  },
  {
   "cell_type": "code",
   "execution_count": 789,
   "metadata": {},
   "outputs": [
    {
     "data": {
      "text/plain": [
       "<Figure size 432x288 with 0 Axes>"
      ]
     },
     "metadata": {},
     "output_type": "display_data"
    }
   ],
   "source": [
    "data['MA'] = old_data['MA']\n",
    "ax = plt.gca()\n",
    "plt.plot(data['Position'], data['Intensity'], label='Raw data at gain=10')\n",
    "plt.plot(data['Position'], data['MA'], label='Rolling average window={}'.format(winy))\n",
    "# plotting important points\n",
    "plt.plot(maxes[:, 1], maxes[:, 0], 'ro', label='Maximae')\n",
    "# plotting important points\n",
    "plt.plot(max_pos, maxy, 'mo', label='Maxima')\n",
    "plt.plot(min_pos, miny, 'co', label='Minima')\n",
    "ax.set(xlabel=old_cols[0], ylabel=old_cols[1], title='Dbl Slit a=.08mm, d=.5mm, dists={}m, dist={}m'.format(dists, round(dist, 7)))\n",
    "ax.legend(bbox_to_anchor = [.6, 1])\n",
    "#ax.legend('Raw data, gain=100', 'Rolling average='.format(winy), 'Max and min')\n",
    "\n",
    "plt.savefig('./important_bois/'+'THICC1_minimmax'+'.png', dpi=350, bbox_inches='tight')\n",
    "plt.clf()"
   ]
  },
  {
   "cell_type": "markdown",
   "metadata": {},
   "source": [
    "## Plant a=.04mm, d=.25mm"
   ]
  },
  {
   "cell_type": "code",
   "execution_count": 790,
   "metadata": {},
   "outputs": [],
   "source": [
    "# PLANT1\n",
    "data = pd.read_csv('./lab_data/PLANT1.txt', header=1, delimiter='\\t')\n",
    "old_cols = data.columns.tolist()\n",
    "winy=350\n",
    "data = data.rename(columns={old_cols[0]:'Position', old_cols[1]:'Intensity'})\n",
    "data['MA'] = data['Intensity'].rolling(window=winy, center=True).mean()\n",
    "old_data = data.copy()\n",
    "data = data.fillna(-1111111)"
   ]
  },
  {
   "cell_type": "code",
   "execution_count": 791,
   "metadata": {},
   "outputs": [
    {
     "data": {
      "text/plain": [
       "array([0.00039, 0.00078, 0.00117, 0.00156])"
      ]
     },
     "execution_count": 791,
     "metadata": {},
     "output_type": "execute_result"
    }
   ],
   "source": [
    "maxes = []\n",
    "for i in range(5):\n",
    "    if i == 0:\n",
    "        min_val = -.0055\n",
    "    else:\n",
    "        min_val = maxes[i-1][1]+.00015\n",
    "    maxes.append(max_finder42069(min_val, data))\n",
    "maxes = np.asarray(maxes)\n",
    "maxes\n",
    "dists = abs(maxes[0, 1] - maxes[1:, 1])\n",
    "dists"
   ]
  },
  {
   "cell_type": "code",
   "execution_count": 792,
   "metadata": {},
   "outputs": [
    {
     "data": {
      "text/plain": [
       "<Figure size 432x288 with 0 Axes>"
      ]
     },
     "metadata": {},
     "output_type": "display_data"
    }
   ],
   "source": [
    "data['MA'] = old_data['MA']\n",
    "ax = plt.gca()\n",
    "plt.plot(data['Position'], data['Intensity'], label='Raw data at gain=10')\n",
    "plt.plot(data['Position'], data['MA'], label='Rolling average window={}'.format(winy))\n",
    "plt.plot(maxes[:, 1], maxes[:, 0], 'ro', label='Maximae')\n",
    "# plotting important points\n",
    "#plt.plot(max_pos, maxy, 'mo', label='Maxima')\n",
    "#plt.plot(min_pos, miny, 'ro', label='Minima')\n",
    "ax.set(xlabel=old_cols[0], ylabel=old_cols[1], title='Dbl Slit a=.04mm, d=.25mm, dist={}m'.format(dists))\n",
    "ax.legend(bbox_to_anchor = [.6, 1])\n",
    "#ax.legend('Raw data, gain=100', 'Rolling average='.format(winy), 'Max and min')\n",
    "\n",
    "plt.savefig('./important_bois/'+'PLANT1'+'.png', dpi=350, bbox_inches='tight')\n",
    "plt.clf()"
   ]
  },
  {
   "cell_type": "markdown",
   "metadata": {},
   "source": [
    "PLANT1 Double Slit first maxima to first diffraction minima"
   ]
  },
  {
   "cell_type": "code",
   "execution_count": 793,
   "metadata": {},
   "outputs": [],
   "source": [
    "data = pd.read_csv('./lab_data/PLANT1.txt', header=1, delimiter='\\t')\n",
    "old_cols = data.columns.tolist()\n",
    "winy=50\n",
    "data = data.rename(columns={old_cols[0]:'Position', old_cols[1]:'Intensity'})\n",
    "data['MA'] = data['Intensity'].rolling(window=winy, center=True).mean()\n",
    "old_data = data.copy()"
   ]
  },
  {
   "cell_type": "code",
   "execution_count": 794,
   "metadata": {},
   "outputs": [
    {
     "name": "stdout",
     "output_type": "stream",
     "text": [
      "0.0055\n",
      "0.00844\n",
      "0.00294\n"
     ]
    }
   ],
   "source": [
    "data = data.fillna(11111111111)\n",
    "maxy = max(data['Intensity'])\n",
    "max_pos = float(data.loc[data['Intensity'] == maxy]['Position'])\n",
    "rows = data.loc[(data['Position']>.007) & (data['Position']<=.0085)]\n",
    "miny = min(rows['MA'])\n",
    "min_pos = float(list(rows.loc[rows['MA'] == miny]['Position'])[0])\n",
    "dist = abs(abs(max_pos)-abs(min_pos))\n",
    "print(max_pos)\n",
    "print(min_pos)\n",
    "print(dist)"
   ]
  },
  {
   "cell_type": "code",
   "execution_count": 795,
   "metadata": {},
   "outputs": [
    {
     "data": {
      "text/plain": [
       "<Figure size 432x288 with 0 Axes>"
      ]
     },
     "metadata": {},
     "output_type": "display_data"
    }
   ],
   "source": [
    "data['MA'] = old_data['MA']\n",
    "ax = plt.gca()\n",
    "plt.plot(data['Position'], data['Intensity'], label='Raw data at gain=10')\n",
    "plt.plot(data['Position'], data['MA'], label='Rolling average window={}'.format(winy))\n",
    "# plotting important points\n",
    "plt.plot(maxes[:, 1], maxes[:, 0], 'ro', label='Maximae')\n",
    "# plotting important points\n",
    "plt.plot(max_pos, maxy, 'mo', label='Maxima')\n",
    "plt.plot(min_pos, miny, 'co', label='Minima')\n",
    "ax.set(xlabel=old_cols[0], ylabel=old_cols[1], title='Dbl Slit a=.04mm, d=.25mm, dists={}m, dist={}m'.format(dists, round(dist, 7)))\n",
    "ax.legend(bbox_to_anchor = [.6, 1])\n",
    "#ax.legend('Raw data, gain=100', 'Rolling average='.format(winy), 'Max and min')\n",
    "\n",
    "plt.savefig('./important_bois/'+'PLANT1_minimmax'+'.png', dpi=350, bbox_inches='tight')\n",
    "plt.clf()"
   ]
  },
  {
   "cell_type": "markdown",
   "metadata": {},
   "source": [
    "# Fitting"
   ]
  },
  {
   "cell_type": "code",
   "execution_count": 707,
   "metadata": {},
   "outputs": [],
   "source": [
    "import math\n",
    "def intense(theta, lamb, a, i_not):\n",
    "    #i_not is at theta = math.asin(lamb/a)\n",
    "    print(type(theta))\n",
    "    phi = 1.0 * np.sin(theta)*a*math.pi/lamb\n",
    "    print(phi[1900:1930])\n",
    "    result = 1.0 * i_not*((np.sin(phi)/(phi))**2)\n",
    "    return result"
   ]
  },
  {
   "cell_type": "code",
   "execution_count": 708,
   "metadata": {},
   "outputs": [],
   "source": [
    "data = pd.read_csv('./lab_data/BEECH7.txt', header=1, delimiter='\\t')\n",
    "old_cols = data.columns.tolist()\n",
    "winy=250\n",
    "data = data.rename(columns={old_cols[0]:'Position', old_cols[1]:'Intensity'})\n",
    "# calibrate intensity\n",
    "data['Intensity'] = 0.0231162 + data['Intensity']\n",
    "data['MA'] = data['Intensity'].rolling(window=winy, center=True).mean()\n",
    "old_data = data.copy()"
   ]
  },
  {
   "cell_type": "code",
   "execution_count": 709,
   "metadata": {},
   "outputs": [
    {
     "name": "stdout",
     "output_type": "stream",
     "text": [
      "0.3232582\n"
     ]
    }
   ],
   "source": [
    "data = data.fillna(-1111111)\n",
    "i_not = max(data['MA'])\n",
    "print(i_not)\n",
    "centre = float(data.loc[data['MA'] == i_not]['Position'])\n",
    "a = .04 # mm\n",
    "a = .00004 # meters\n",
    "lamb = 650 # nm assuming its perfect\n",
    "lamb = 700*(10**(-9))  # in meters\n",
    "b = 1.035 - .08 # meters\n",
    "\n",
    "data['Relative Position'] = abs(abs(np.asarray(data['Position'])) - abs(centre))\n",
    "# theta = atan(rel_pos/b)\n",
    "data['theta'] = np.arctan(data['Relative Position']/b)"
   ]
  },
  {
   "cell_type": "code",
   "execution_count": 710,
   "metadata": {},
   "outputs": [
    {
     "name": "stdout",
     "output_type": "stream",
     "text": [
      "<class 'numpy.ndarray'>\n",
      "[0.04135529 0.04135529 0.04135529 0.03195636 0.03195636 0.03195636\n",
      " 0.02067765 0.02067765 0.02067765 0.01127872 0.01127872 0.01127872\n",
      " 0.         0.         0.         0.00939893 0.00939893 0.00939893\n",
      " 0.02067765 0.02067765 0.02067765 0.03195636 0.03195636 0.04135529\n",
      " 0.04135529 0.04135529 0.05263401 0.05263401 0.05263401 0.06203294]\n"
     ]
    },
    {
     "name": "stderr",
     "output_type": "stream",
     "text": [
      "<ipython-input-707-be1a936cd6b5>:7: RuntimeWarning: invalid value encountered in true_divide\n",
      "  result = 1.0 * i_not*((np.sin(phi)/(phi))**2)\n"
     ]
    }
   ],
   "source": [
    "data['Intense fit'] = intense(np.asarray(data['theta']), lamb, a, .33)"
   ]
  },
  {
   "cell_type": "code",
   "execution_count": 711,
   "metadata": {},
   "outputs": [
    {
     "data": {
      "text/html": [
       "<div>\n",
       "<style scoped>\n",
       "    .dataframe tbody tr th:only-of-type {\n",
       "        vertical-align: middle;\n",
       "    }\n",
       "\n",
       "    .dataframe tbody tr th {\n",
       "        vertical-align: top;\n",
       "    }\n",
       "\n",
       "    .dataframe thead th {\n",
       "        text-align: right;\n",
       "    }\n",
       "</style>\n",
       "<table border=\"1\" class=\"dataframe\">\n",
       "  <thead>\n",
       "    <tr style=\"text-align: right;\">\n",
       "      <th></th>\n",
       "      <th>Position</th>\n",
       "      <th>Intensity</th>\n",
       "      <th>MA</th>\n",
       "      <th>Relative Position</th>\n",
       "      <th>theta</th>\n",
       "      <th>Intense fit</th>\n",
       "    </tr>\n",
       "  </thead>\n",
       "  <tbody>\n",
       "    <tr>\n",
       "      <th>0</th>\n",
       "      <td>0.00000</td>\n",
       "      <td>-0.000634</td>\n",
       "      <td>-1111111.0</td>\n",
       "      <td>0.03889</td>\n",
       "      <td>0.040700</td>\n",
       "      <td>0.004498</td>\n",
       "    </tr>\n",
       "    <tr>\n",
       "      <th>1</th>\n",
       "      <td>0.00000</td>\n",
       "      <td>0.003546</td>\n",
       "      <td>-1111111.0</td>\n",
       "      <td>0.03889</td>\n",
       "      <td>0.040700</td>\n",
       "      <td>0.004498</td>\n",
       "    </tr>\n",
       "    <tr>\n",
       "      <th>2</th>\n",
       "      <td>0.00000</td>\n",
       "      <td>0.003386</td>\n",
       "      <td>-1111111.0</td>\n",
       "      <td>0.03889</td>\n",
       "      <td>0.040700</td>\n",
       "      <td>0.004498</td>\n",
       "    </tr>\n",
       "    <tr>\n",
       "      <th>3</th>\n",
       "      <td>-0.00006</td>\n",
       "      <td>0.002906</td>\n",
       "      <td>-1111111.0</td>\n",
       "      <td>0.03883</td>\n",
       "      <td>0.040637</td>\n",
       "      <td>0.004449</td>\n",
       "    </tr>\n",
       "    <tr>\n",
       "      <th>4</th>\n",
       "      <td>-0.00006</td>\n",
       "      <td>0.005806</td>\n",
       "      <td>-1111111.0</td>\n",
       "      <td>0.03883</td>\n",
       "      <td>0.040637</td>\n",
       "      <td>0.004449</td>\n",
       "    </tr>\n",
       "    <tr>\n",
       "      <th>...</th>\n",
       "      <td>...</td>\n",
       "      <td>...</td>\n",
       "      <td>...</td>\n",
       "      <td>...</td>\n",
       "      <td>...</td>\n",
       "      <td>...</td>\n",
       "    </tr>\n",
       "    <tr>\n",
       "      <th>4419</th>\n",
       "      <td>-0.09028</td>\n",
       "      <td>0.001456</td>\n",
       "      <td>-1111111.0</td>\n",
       "      <td>0.05139</td>\n",
       "      <td>0.053760</td>\n",
       "      <td>0.000171</td>\n",
       "    </tr>\n",
       "    <tr>\n",
       "      <th>4420</th>\n",
       "      <td>-0.09033</td>\n",
       "      <td>0.003226</td>\n",
       "      <td>-1111111.0</td>\n",
       "      <td>0.05144</td>\n",
       "      <td>0.053812</td>\n",
       "      <td>0.000185</td>\n",
       "    </tr>\n",
       "    <tr>\n",
       "      <th>4421</th>\n",
       "      <td>-0.09033</td>\n",
       "      <td>0.002426</td>\n",
       "      <td>-1111111.0</td>\n",
       "      <td>0.05144</td>\n",
       "      <td>0.053812</td>\n",
       "      <td>0.000185</td>\n",
       "    </tr>\n",
       "    <tr>\n",
       "      <th>4422</th>\n",
       "      <td>-0.09039</td>\n",
       "      <td>0.004836</td>\n",
       "      <td>-1111111.0</td>\n",
       "      <td>0.05150</td>\n",
       "      <td>0.053875</td>\n",
       "      <td>0.000203</td>\n",
       "    </tr>\n",
       "    <tr>\n",
       "      <th>4423</th>\n",
       "      <td>-0.09039</td>\n",
       "      <td>0.001456</td>\n",
       "      <td>-1111111.0</td>\n",
       "      <td>0.05150</td>\n",
       "      <td>0.053875</td>\n",
       "      <td>0.000203</td>\n",
       "    </tr>\n",
       "  </tbody>\n",
       "</table>\n",
       "<p>4424 rows × 6 columns</p>\n",
       "</div>"
      ],
      "text/plain": [
       "      Position  Intensity         MA  Relative Position     theta  Intense fit\n",
       "0      0.00000  -0.000634 -1111111.0            0.03889  0.040700     0.004498\n",
       "1      0.00000   0.003546 -1111111.0            0.03889  0.040700     0.004498\n",
       "2      0.00000   0.003386 -1111111.0            0.03889  0.040700     0.004498\n",
       "3     -0.00006   0.002906 -1111111.0            0.03883  0.040637     0.004449\n",
       "4     -0.00006   0.005806 -1111111.0            0.03883  0.040637     0.004449\n",
       "...        ...        ...        ...                ...       ...          ...\n",
       "4419  -0.09028   0.001456 -1111111.0            0.05139  0.053760     0.000171\n",
       "4420  -0.09033   0.003226 -1111111.0            0.05144  0.053812     0.000185\n",
       "4421  -0.09033   0.002426 -1111111.0            0.05144  0.053812     0.000185\n",
       "4422  -0.09039   0.004836 -1111111.0            0.05150  0.053875     0.000203\n",
       "4423  -0.09039   0.001456 -1111111.0            0.05150  0.053875     0.000203\n",
       "\n",
       "[4424 rows x 6 columns]"
      ]
     },
     "execution_count": 711,
     "metadata": {},
     "output_type": "execute_result"
    }
   ],
   "source": [
    "data"
   ]
  },
  {
   "cell_type": "code",
   "execution_count": 712,
   "metadata": {},
   "outputs": [
    {
     "data": {
      "text/plain": [
       "57.14285714285714"
      ]
     },
     "execution_count": 712,
     "metadata": {},
     "output_type": "execute_result"
    }
   ],
   "source": [
    "a/lamb"
   ]
  },
  {
   "cell_type": "code",
   "execution_count": 647,
   "metadata": {},
   "outputs": [
    {
     "data": {
      "text/plain": [
       "<Figure size 432x288 with 0 Axes>"
      ]
     },
     "metadata": {},
     "output_type": "display_data"
    }
   ],
   "source": [
    "ax = plt.gca()\n",
    "data['MA'] = old_data['MA']\n",
    "plt.plot(data['Position'], data['Intensity'], label='Raw data at gain=100')\n",
    "#plt.plot(data['Position'], data['MA'], label='MA')\n",
    "plt.plot(data['Position'], data['Intense fit'], label='Theoretical fit'.format(winy))\n",
    "#plt.plot(data['Position'], data['Relative Position'])\n",
    "#plt.plot(data['Position'], data['theta'])\n",
    "# plotting important points\n",
    "ax.set(xlabel=old_cols[0], ylabel=old_cols[1], title='Single Slit a=.04mm, dist={}m'.format(round(dist, 5)))\n",
    "ax.legend(bbox_to_anchor = [.6, 1])\n",
    "#ax.legend('Raw data, gain=100', 'Rolling average='.format(winy), 'Max and min')\n",
    "\n",
    "plt.savefig('./important_bois/'+'BEECH_fir'+'.png', dpi=350, bbox_inches='tight')\n",
    "plt.clf()"
   ]
  },
  {
   "cell_type": "code",
   "execution_count": 356,
   "metadata": {},
   "outputs": [
    {
     "data": {
      "text/plain": [
       "-0.0231162"
      ]
     },
     "execution_count": 356,
     "metadata": {},
     "output_type": "execute_result"
    }
   ],
   "source": [
    "data = data.fillna(0)\n",
    "min(data['MA'])"
   ]
  },
  {
   "cell_type": "code",
   "execution_count": null,
   "metadata": {},
   "outputs": [],
   "source": []
  },
  {
   "cell_type": "markdown",
   "metadata": {},
   "source": [
    "## Fit Tests (Kolmogorov-Smirnov Test and Wasserstein Dist, prmarily)"
   ]
  },
  {
   "cell_type": "code",
   "execution_count": 418,
   "metadata": {},
   "outputs": [],
   "source": [
    "from scipy.spatial.distance import *\n",
    "import scipy"
   ]
  },
  {
   "cell_type": "code",
   "execution_count": 426,
   "metadata": {},
   "outputs": [
    {
     "data": {
      "text/plain": [
       "0.039306041545359376"
      ]
     },
     "execution_count": 426,
     "metadata": {},
     "output_type": "execute_result"
    }
   ],
   "source": [
    "braycurtis(data_filled['Intensity'], data_filled['Intense fit'])"
   ]
  },
  {
   "cell_type": "code",
   "execution_count": 416,
   "metadata": {},
   "outputs": [
    {
     "data": {
      "text/plain": [
       "0.6877646568575082"
      ]
     },
     "execution_count": 416,
     "metadata": {},
     "output_type": "execute_result"
    }
   ],
   "source": [
    "euclidean(data_filled['Intensity'], data_filled['Intense fit'])"
   ]
  },
  {
   "cell_type": "code",
   "execution_count": 423,
   "metadata": {},
   "outputs": [],
   "source": [
    "data_filled = data.fillna(0.00000)"
   ]
  },
  {
   "cell_type": "code",
   "execution_count": 414,
   "metadata": {},
   "outputs": [
    {
     "data": {
      "text/plain": [
       "0.003483030503366402"
      ]
     },
     "execution_count": 414,
     "metadata": {},
     "output_type": "execute_result"
    }
   ],
   "source": [
    "cosine(data_filled['Intensity'], data_filled['Intense fit'])"
   ]
  },
  {
   "cell_type": "code",
   "execution_count": 425,
   "metadata": {},
   "outputs": [
    {
     "data": {
      "text/plain": [
       "0.0031532727854768528"
      ]
     },
     "execution_count": 425,
     "metadata": {},
     "output_type": "execute_result"
    }
   ],
   "source": [
    "scipy.stats.wasserstein_distance(data_filled['Intensity'], data_filled['Intense fit'])"
   ]
  },
  {
   "cell_type": "code",
   "execution_count": 432,
   "metadata": {},
   "outputs": [],
   "source": [
    "d_stat, p_val = scipy.stats.kstest(data_filled['Intensity'], data_filled['Intense fit'])"
   ]
  },
  {
   "cell_type": "code",
   "execution_count": 433,
   "metadata": {},
   "outputs": [
    {
     "data": {
      "text/plain": [
       "True"
      ]
     },
     "execution_count": 433,
     "metadata": {},
     "output_type": "execute_result"
    }
   ],
   "source": [
    "critical_val = 1.07/math.sqrt(len(data['Intensity']))\n",
    "p_val < critical_val"
   ]
  },
  {
   "cell_type": "code",
   "execution_count": 434,
   "metadata": {},
   "outputs": [
    {
     "data": {
      "text/plain": [
       "0.016087042846924055"
      ]
     },
     "execution_count": 434,
     "metadata": {},
     "output_type": "execute_result"
    }
   ],
   "source": [
    "critical_val\n"
   ]
  },
  {
   "cell_type": "code",
   "execution_count": 435,
   "metadata": {},
   "outputs": [
    {
     "data": {
      "text/plain": [
       "0.09697106690777577"
      ]
     },
     "execution_count": 435,
     "metadata": {},
     "output_type": "execute_result"
    }
   ],
   "source": [
    "d_stat"
   ]
  },
  {
   "cell_type": "code",
   "execution_count": 436,
   "metadata": {},
   "outputs": [
    {
     "data": {
      "text/plain": [
       "1.6134431775916927e-18"
      ]
     },
     "execution_count": 436,
     "metadata": {},
     "output_type": "execute_result"
    }
   ],
   "source": [
    "p_val"
   ]
  },
  {
   "cell_type": "markdown",
   "metadata": {},
   "source": [
    "## Uncertainties hmmm"
   ]
  },
  {
   "cell_type": "code",
   "execution_count": 648,
   "metadata": {},
   "outputs": [],
   "source": [
    "# these bad bois are plus/minus, of course\n",
    "b_unc = .01  # cm\n",
    "b_unc = .0001  # m\n",
    "lamb_unc = 20  # nm\n",
    "lamb_unc = 20*(10**(-9))  # m\n",
    "# not propatting error from sensor (position, intensity)"
   ]
  },
  {
   "cell_type": "code",
   "execution_count": 649,
   "metadata": {},
   "outputs": [],
   "source": [
    "# data['theta'] = np.arctan(data['Relative Position']/b)\n",
    "data\n",
    "data['Theta unc'] = b/(data['Relative Position']**2+b**2)*b_unc\n",
    "data['Theta Unc Top'] = data['theta'] + data['Theta unc']\n",
    "data['Theta Unc Bot'] = data['theta'] - data['Theta unc']"
   ]
  },
  {
   "cell_type": "code",
   "execution_count": 650,
   "metadata": {},
   "outputs": [],
   "source": [
    "# phi = 1.0 * np.sin(theta)*a*math.pi/lamb\n",
    "sin_theta_unc = np.cos(data['theta'])*data['Theta unc']\n",
    "data['lambda'] = np.asarray([lamb]*len(data))\n",
    "data['lambda unc'] = np.asarray([lamb_unc]*len(data))\n",
    "data['phi'] = np.sin(data['theta'])*a*math.pi/data['lambda']\n",
    "data['Phi unc'] = data['phi']*(data['lambda unc']/data['lambda']+sin_theta_unc/np.sin(data['theta']))\n",
    "#data['Phi unc'] = data['Phi unc'].fillna(0)\n"
   ]
  },
  {
   "cell_type": "code",
   "execution_count": 651,
   "metadata": {},
   "outputs": [],
   "source": [
    "# intesnity fit uncertainty \n",
    "# result = 1.0 * i_not*((np.sin(phi)/(phi))**2)\n",
    "sin_phi = np.sin(data['phi'])\n",
    "sin_phi_unc = np.cos(data['phi'])*data['Phi unc']\n",
    "spop = np.sin(data['phi'])/data['phi']\n",
    "#spop[np.isnan(spop)]=1.0\n",
    "spop_unc = spop*(data['Phi unc']/data['phi']+sin_phi_unc/sin_phi)\n",
    "#spop_unc = np.nan_to_num(spop_unc)\n",
    "spop_sqr = spop**2\n",
    "spop_sqr_unc = (spop_sqr)*(2*spop_unc/spop)\n",
    "data['Fit unc'] = data['Intense fit']*(spop_sqr_unc/spop_sqr)\n"
   ]
  },
  {
   "cell_type": "code",
   "execution_count": 654,
   "metadata": {},
   "outputs": [],
   "source": [
    "data['Fit top'] = data['Intense fit'] + data['Fit unc']\n",
    "data['Fit bot'] = data['Intense fit'] - data['Fit unc']"
   ]
  },
  {
   "cell_type": "code",
   "execution_count": 657,
   "metadata": {},
   "outputs": [
    {
     "data": {
      "text/plain": [
       "<Figure size 432x288 with 0 Axes>"
      ]
     },
     "metadata": {},
     "output_type": "display_data"
    }
   ],
   "source": [
    "ax = plt.gca()\n",
    "plt.ylim([-.05, .4])\n",
    "\n",
    "data['MA'] = old_data['MA']\n",
    "plt.plot(data['Position'], data['Intensity'], label='Raw data at gain=100')\n",
    "plt.plot(data['Position'], data['Intense fit'], label='Eqn 3 fit'.format(winy))\n",
    "plt.fill_between(data['Position'], data['Fit top'], data['Fit bot'], alpha=.3, label='Fit Uncertainty')\n",
    "ax.set(xlabel=old_cols[0], ylabel=old_cols[1], title='Single Slit a=.04mm, dist={}m'.format(round(dist, 5)))\n",
    "ax.legend(bbox_to_anchor = [.6, 1])\n",
    "#ax.legend('Raw data, gain=100', 'Rolling average='.format(winy), 'Max and min')\n",
    "\n",
    "plt.savefig('./important_bois/'+'BEECH_fir'+'.png', dpi=350, bbox_inches='tight')\n",
    "plt.clf()"
   ]
  },
  {
   "cell_type": "code",
   "execution_count": 462,
   "metadata": {},
   "outputs": [
    {
     "data": {
      "text/plain": [
       "3.064155220817596"
      ]
     },
     "execution_count": 462,
     "metadata": {},
     "output_type": "execute_result"
    }
   ],
   "source": [
    "max(data['Fit top'])"
   ]
  },
  {
   "cell_type": "code",
   "execution_count": 487,
   "metadata": {},
   "outputs": [],
   "source": [
    "data = before_fillna"
   ]
  },
  {
   "cell_type": "markdown",
   "metadata": {},
   "source": [
    "## Single slit uncerts"
   ]
  },
  {
   "cell_type": "code",
   "execution_count": 692,
   "metadata": {},
   "outputs": [
    {
     "name": "stdout",
     "output_type": "stream",
     "text": [
      "0.018374895058056555\n",
      "0.01837489505805656\n",
      "0.00010467669122821193\n",
      "0.0380975994853957\n",
      "0.0013055098953324554\n"
     ]
    }
   ],
   "source": [
    "theta = .018375 # rads\n",
    "m=1\n",
    "b_cm = 95.5 # cm\n",
    "b = .955 # m\n",
    "b_unc = .01 #cm\n",
    "b_unc = .0001 #m\n",
    "rel_pos_cm = 1.755 #m\n",
    "rel_pos = .01755 # m\n",
    "lamb = 700 # nm assuming its perfect\n",
    "lamb = 700*(10**(-9))  #\n",
    "lamb_unc = 20  # nm\n",
    "lamb_unc = 20*(10**(-9))  # m\n",
    "theta = math.atan(rel_pos/b)\n",
    "print(math.atan(rel_pos_cm/b_cm))\n",
    "print(theta)\n",
    "theta_unc = b/(rel_pos**2+b**2)*b_unc\n",
    "print(theta_unc)\n",
    "a = (m*lamb)/(math.sin(theta))\n",
    "a_unc = a*(lamb_unc/lamb + math.cos(theta)*theta_unc/math.sin(theta))\n",
    "print(a*1000) # in mm\n",
    "print(a_unc*1000) # in mm"
   ]
  },
  {
   "cell_type": "code",
   "execution_count": 799,
   "metadata": {},
   "outputs": [
    {
     "name": "stdout",
     "output_type": "stream",
     "text": [
      "0.021102394703537287\n",
      "0.0007175554594648233\n",
      "0.033174052778908066\n",
      "0.002075696820857339\n"
     ]
    }
   ],
   "source": [
    "#DS 1\n",
    "m=1\n",
    "#b_cm = 95.5 # cm\n",
    "b = .1393 # m\n",
    "b_unc = .01 #cm\n",
    "b_unc = .0001 #m\n",
    "#rel_pos_cm = 1.755 #m\n",
    "rel_pos = .00294 # m\n",
    "lamb = 700 # nm assuming its perfect\n",
    "lamb = 700*(10**(-9))  #\n",
    "lamb_unc = 20  # nm\n",
    "lamb_unc = 20*(10**(-9))  # m\n",
    "theta = math.atan(rel_pos/b)\n",
    "#print(math.atan(rel_pos_cm/b_cm))\n",
    "print(theta)\n",
    "theta_unc = b/(rel_pos**2+b**2)*b_unc\n",
    "print(theta_unc)\n",
    "a = (m*lamb)/(math.sin(theta))\n",
    "a_unc = a*(lamb_unc/lamb + math.cos(theta)*theta_unc/math.sin(theta))\n",
    "print(a*1000) # in mm\n",
    "print(a_unc*1000) # in mm"
   ]
  },
  {
   "cell_type": "code",
   "execution_count": 800,
   "metadata": {},
   "outputs": [
    {
     "name": "stdout",
     "output_type": "stream",
     "text": [
      "0.017425621901144727\n",
      "0.0005925882504060582\n",
      "0.040172765788667214\n",
      "0.0025137990385418144\n"
     ]
    }
   ],
   "source": [
    "#dS 2\n",
    "m=1\n",
    "#b_cm = 95.5 # cm\n",
    "b = .1687 # m\n",
    "b_unc = .01 #cm\n",
    "b_unc = .0001 #m\n",
    "#rel_pos_cm = 1.755 #m\n",
    "rel_pos = .00294 # m\n",
    "lamb = 700 # nm assuming its perfect\n",
    "lamb = 700*(10**(-9))  #\n",
    "lamb_unc = 20  # nm\n",
    "lamb_unc = 20*(10**(-9))  # m\n",
    "theta = math.atan(rel_pos/b)\n",
    "#print(math.atan(rel_pos_cm/b_cm))\n",
    "print(theta)\n",
    "theta_unc = b/(rel_pos**2+b**2)*b_unc\n",
    "print(theta_unc)\n",
    "a = (m*lamb)/(math.sin(theta))\n",
    "a_unc = a*(lamb_unc/lamb + math.cos(theta)*theta_unc/math.sin(theta))\n",
    "print(a*1000) # in mm\n",
    "print(a_unc*1000) # in mm"
   ]
  },
  {
   "cell_type": "code",
   "execution_count": 801,
   "metadata": {},
   "outputs": [
    {
     "name": "stdout",
     "output_type": "stream",
     "text": [
      "0.00867126681796846\n",
      "0.0005558225742169586\n",
      "0.08072739393676209\n",
      "0.0074809408238561284\n"
     ]
    }
   ],
   "source": [
    "#dS 3\n",
    "m=1\n",
    "#b_cm = 95.5 # cm\n",
    "b = .1799 # m\n",
    "b_unc = .01 #cm\n",
    "b_unc = .0001 #m\n",
    "#rel_pos_cm = 1.755 #m\n",
    "rel_pos = .00156 # m\n",
    "lamb = 700 # nm assuming its perfect\n",
    "lamb = 700*(10**(-9))  #\n",
    "lamb_unc = 20  # nm\n",
    "lamb_unc = 20*(10**(-9))  # m\n",
    "theta = math.atan(rel_pos/b)\n",
    "#print(math.atan(rel_pos_cm/b_cm))\n",
    "print(theta)\n",
    "theta_unc = b/(rel_pos**2+b**2)*b_unc\n",
    "print(theta_unc)\n",
    "a = (m*lamb)/(math.sin(theta))\n",
    "a_unc = a*(lamb_unc/lamb + math.cos(theta)*theta_unc/math.sin(theta))\n",
    "print(a*1000) # in mm\n",
    "print(a_unc*1000) # in mm"
   ]
  },
  {
   "cell_type": "markdown",
   "metadata": {},
   "source": [
    "## Double Slit Uncerts"
   ]
  },
  {
   "cell_type": "code",
   "execution_count": 701,
   "metadata": {},
   "outputs": [
    {
     "name": "stdout",
     "output_type": "stream",
     "text": [
      "0.00039\n",
      "0.2500266209232183\n",
      "0.07125250521038239\n",
      "0.00078\n",
      "0.25002956059290815\n",
      "0.039197768592741176\n",
      "0.00117\n",
      "0.25003445996558704\n",
      "0.028512800892511646\n",
      "0.00156\n",
      "0.25004131892605813\n",
      "0.023170317434130363\n",
      "0.040533348032441394\n"
     ]
    }
   ],
   "source": [
    "# PLANT1\n",
    "b = 0.1393 # m\n",
    "b_unc = .0001 # m \n",
    "m=1\n",
    "lamb = 700 # nm assuming its perfect\n",
    "lamb = 700*(10**(-9))  #\n",
    "lamb_unc = 20  # nm\n",
    "lamb_unc = 20*(10**(-9))  # m\n",
    "rel_poss = [.00039, .00078, .00117, .00156] # m\n",
    "uncs = []\n",
    "for rel_pos in rel_poss:\n",
    "    theta = math.atan(rel_pos/b)\n",
    "    theta_unc = b/(rel_pos**2+b**2)*b_unc\n",
    "    d = (m*lamb)/(math.sin(theta))\n",
    "    d_unc = d*(lamb_unc/lamb + math.cos(theta)*theta_unc/math.sin(theta))\n",
    "    print(rel_pos)\n",
    "    print(d*1000)\n",
    "    print(d_unc*1000)\n",
    "    uncs.append(d_unc*1000)\n",
    "    m+=1\n",
    "print(np.sum(uncs)/len(uncs))"
   ]
  },
  {
   "cell_type": "code",
   "execution_count": 705,
   "metadata": {},
   "outputs": [
    {
     "name": "stdout",
     "output_type": "stream",
     "text": [
      "0.00022\n",
      "0.5367731837040685\n",
      "0.2593237725144292\n",
      "0.0005\n",
      "0.4723620746842405\n",
      "0.10796764434166696\n",
      "0.00072\n",
      "0.49204614797406054\n",
      "0.08239695934292164\n",
      "0.00094\n",
      "0.5025184390671998\n",
      "0.06781541837376608\n",
      "0.5009249613573924\n",
      "0.12937594864319596\n"
     ]
    }
   ],
   "source": [
    "# HANGRY1\n",
    "b = 0.1687 # m\n",
    "b_unc = .0001 # m \n",
    "m=1\n",
    "lamb = 700 # nm assuming its perfect\n",
    "lamb = 700*(10**(-9))  #\n",
    "lamb_unc = 20  # nm\n",
    "lamb_unc = 20*(10**(-9))  # m\n",
    "rel_poss = [.00022, .0005, .00072, .00094] # m\n",
    "uncs = []\n",
    "ds= []\n",
    "for rel_pos in rel_poss:\n",
    "    theta = math.atan(rel_pos/b)\n",
    "    theta_unc = b/(rel_pos**2+b**2)*b_unc\n",
    "    d = (m*lamb)/(math.sin(theta))\n",
    "    d_unc = d*(lamb_unc/lamb + math.cos(theta)*theta_unc/math.sin(theta))\n",
    "    print(rel_pos)\n",
    "    print(d*1000)\n",
    "    print(d_unc*1000)\n",
    "    ds.append(d*1000)\n",
    "    uncs.append(d_unc*1000)\n",
    "    m+=1\n",
    "print(np.sum(ds)/len(ds))\n",
    "print(np.sum(uncs)/len(uncs))"
   ]
  },
  {
   "cell_type": "code",
   "execution_count": 706,
   "metadata": {},
   "outputs": [
    {
     "name": "stdout",
     "output_type": "stream",
     "text": [
      "0.00028\n",
      "0.4497505447467519\n",
      "0.17347482101201725\n",
      "0.0005\n",
      "0.5037219455215348\n",
      "0.11513566648352548\n",
      "0.00072\n",
      "0.5247125356511357\n",
      "0.08786736048972103\n",
      "0.00095\n",
      "0.530238971891938\n",
      "0.07096275713286944\n",
      "0.5021059994528401\n",
      "0.1118601512795333\n"
     ]
    }
   ],
   "source": [
    "# THICC1\n",
    "b = 0.1799 # m\n",
    "b_unc = .0001 # m \n",
    "m=1\n",
    "lamb = 700 # nm assuming its perfect\n",
    "lamb = 700*(10**(-9))  #\n",
    "lamb_unc = 20  # nm\n",
    "lamb_unc = 20*(10**(-9))  # m\n",
    "rel_poss = [.00028, .0005, .00072, .00095] # m\n",
    "uncs = []\n",
    "ds= []\n",
    "for rel_pos in rel_poss:\n",
    "    theta = math.atan(rel_pos/b)\n",
    "    theta_unc = b/(rel_pos**2+b**2)*b_unc\n",
    "    d = (m*lamb)/(math.sin(theta))\n",
    "    d_unc = d*(lamb_unc/lamb + math.cos(theta)*theta_unc/math.sin(theta))\n",
    "    print(rel_pos)\n",
    "    print(d*1000)\n",
    "    print(d_unc*1000)\n",
    "    ds.append(d*1000)\n",
    "    uncs.append(d_unc*1000)\n",
    "    m+=1\n",
    "print(np.sum(ds)/len(ds))\n",
    "print(np.sum(uncs)/len(uncs))"
   ]
  },
  {
   "cell_type": "markdown",
   "metadata": {},
   "source": [
    "## Heisenberg uncert"
   ]
  },
  {
   "cell_type": "code",
   "execution_count": 714,
   "metadata": {},
   "outputs": [
    {
     "name": "stdout",
     "output_type": "stream",
     "text": [
      "0.9978399538002686\n",
      "0.053086583333737856\n"
     ]
    }
   ],
   "source": [
    "l = .00406 # m\n",
    "b = .93 # m\n",
    "a = .00016\n",
    "b_unc = .0001 # m  \n",
    "lamb = 700 # nm assuming its perfect\n",
    "lamb = 700*(10**(-9))  #\n",
    "lamb_unc = 20  # nm\n",
    "lamb_unc = 20*(10**(-9))  # m\n",
    "atan = math.atan(l/b)\n",
    "atan_unc = b/(b**2 + l**2)*b_unc\n",
    "sin = math.sin(atan)\n",
    "sin_unc = math.cos(atan)*atan_unc\n",
    "lhs = a/lamb*sin\n",
    "lhs_unc = lhs*(lamb_unc/lamb+sin_unc/sin)\n",
    "print(lhs)\n",
    "print(lhs_unc)"
   ]
  },
  {
   "cell_type": "code",
   "execution_count": 719,
   "metadata": {},
   "outputs": [
    {
     "name": "stdout",
     "output_type": "stream",
     "text": [
      "0.8466741530862485\n",
      "0.03647846489087681\n"
     ]
    }
   ],
   "source": [
    "l = .00689 # m\n",
    "b = .93 # m\n",
    "a = .00008\n",
    "b_unc = .0001 # m  \n",
    "lamb = 700 # nm assuming its perfect\n",
    "lamb = 700*(10**(-9))  #\n",
    "lamb_unc = 20  # nm\n",
    "lamb_unc = 20*(10**(-9))  # m\n",
    "atan = math.atan(l/b)\n",
    "atan_unc = b/(b**2 + l**2)*b_unc\n",
    "sin = math.sin(atan)\n",
    "sin_unc = math.cos(atan)*atan_unc\n",
    "lhs = a/lamb*sin\n",
    "lhs_unc = lhs*(lamb_unc/lamb+sin_unc/sin)\n",
    "print(lhs)\n",
    "print(lhs_unc)"
   ]
  },
  {
   "cell_type": "code",
   "execution_count": 721,
   "metadata": {},
   "outputs": [
    {
     "name": "stdout",
     "output_type": "stream",
     "text": [
      "1.0499349182179725\n",
      "0.03597865597054425\n"
     ]
    }
   ],
   "source": [
    "l = .01755 # m\n",
    "b = .955 # m\n",
    "a = .00004\n",
    "b_unc = .0001 # m  \n",
    "lamb = 700 # nm assuming its perfect\n",
    "lamb = 700*(10**(-9))  #\n",
    "lamb_unc = 20  # nm\n",
    "lamb_unc = 20*(10**(-9))  # m\n",
    "atan = math.atan(l/b)\n",
    "atan_unc = b/(b**2 + l**2)*b_unc\n",
    "sin = math.sin(atan)\n",
    "sin_unc = math.cos(atan)*atan_unc\n",
    "lhs = a/lamb*sin\n",
    "lhs_unc = lhs*(lamb_unc/lamb+sin_unc/sin)\n",
    "print(lhs)\n",
    "print(lhs_unc)"
   ]
  },
  {
   "cell_type": "code",
   "execution_count": null,
   "metadata": {},
   "outputs": [],
   "source": []
  }
 ],
 "metadata": {
  "kernelspec": {
   "display_name": "Torch",
   "language": "python",
   "name": "torch"
  },
  "language_info": {
   "codemirror_mode": {
    "name": "ipython",
    "version": 3
   },
   "file_extension": ".py",
   "mimetype": "text/x-python",
   "name": "python",
   "nbconvert_exporter": "python",
   "pygments_lexer": "ipython3",
   "version": "3.8.3"
  }
 },
 "nbformat": 4,
 "nbformat_minor": 4
}
