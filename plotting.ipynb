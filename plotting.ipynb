{
 "cells": [
  {
   "cell_type": "code",
   "execution_count": 2,
   "metadata": {},
   "outputs": [],
   "source": [
    "from matplotlib import pyplot as plt\n",
    "import numpy as np\n",
    "import pandas as pd\n",
    "import os"
   ]
  },
  {
   "cell_type": "markdown",
   "metadata": {},
   "source": [
    "Plotting all:"
   ]
  },
  {
   "cell_type": "code",
   "execution_count": 88,
   "metadata": {},
   "outputs": [],
   "source": [
    "files = list(os.listdir('./lab_data/'))\n",
    "files.sort()\n"
   ]
  },
  {
   "cell_type": "code",
   "execution_count": 62,
   "metadata": {},
   "outputs": [
    {
     "data": {
      "text/plain": [
       "<Figure size 432x288 with 0 Axes>"
      ]
     },
     "metadata": {},
     "output_type": "display_data"
    }
   ],
   "source": [
    "for i in range(len(files)):\n",
    "    data = pd.read_csv('./lab_data/{}'.format(files[i]), header=1, delimiter='\\t')\n",
    "    old_cols = data.columns.tolist()\n",
    "    data = data.rename(columns={old_cols[0]:'Position', old_cols[1]:'Intensity'})\n",
    "    # moving average\n",
    "    data[\"MA\"] = data[\"Intensity\"].rolling(window=150, center=True).mean()\n",
    "    ax = plt.gca()\n",
    "    plt.plot(data['Position'], data['Intensity'])\n",
    "    plt.plot(data['Position'], data['MA'])\n",
    "    ax.set(xlabel=old_cols[0], ylabel=old_cols[1], title=files[i])\n",
    "    plt.savefig('./plotted/'+files[i]+'.png', dpi=350)\n",
    "    plt.clf()"
   ]
  },
  {
   "cell_type": "markdown",
   "metadata": {},
   "source": [
    "Plotting Single Slit "
   ]
  },
  {
   "cell_type": "code",
   "execution_count": 77,
   "metadata": {},
   "outputs": [
    {
     "data": {
      "text/plain": [
       "0.30328086666666665"
      ]
     },
     "execution_count": 77,
     "metadata": {},
     "output_type": "execute_result"
    }
   ],
   "source": [
    "data = pd.read_csv('./lab_data/BEECH7.txt', header=1, delimiter='\\t')\n",
    "old_cols = data.columns.tolist()\n",
    "winy=150\n",
    "data = data.rename(columns={old_cols[0]:'Position', old_cols[1]:'Intensity'})\n",
    "data['MA'] = data['Intensity'].rolling(window=winy, center=True).mean()\n",
    "old_data = data.copy()\n",
    "data = data.fillna(-1111111)\n",
    "max(data['MA'])"
   ]
  },
  {
   "cell_type": "code",
   "execution_count": 78,
   "metadata": {},
   "outputs": [],
   "source": [
    "maxframe = data.loc[(data['Position'] >= -.05) & (data['Position'] <= -.03)]\n",
    "maxy = max(maxframe['MA'])\n",
    "max_row = data.loc[data['MA'] == maxy]\n",
    "max_pos = float(max_row['Position'])\n",
    "minframe = data.loc[(data['Position'] >= -.03) & (data['Position'] <= -.01)]\n",
    "miny = min(minframe['MA'])\n",
    "min_row = data.loc[data['MA'] == miny]\n",
    "min_pos = float(min_row['Position'])\n",
    "diff = abs(abs(max_pos)-abs(min_pos))\n",
    "data['MA'] = old_data['MA']"
   ]
  },
  {
   "cell_type": "code",
   "execution_count": 87,
   "metadata": {},
   "outputs": [
    {
     "data": {
      "text/plain": [
       "<Figure size 432x288 with 0 Axes>"
      ]
     },
     "metadata": {},
     "output_type": "display_data"
    }
   ],
   "source": [
    "ax = plt.gca()\n",
    "plt.plot(data['Position'], data['Intensity'], label='Raw data at gain=100')\n",
    "plt.plot(data['Position'], data['MA'], label='Rolling average window={}'.format(winy))\n",
    "# plotting important points\n",
    "plt.plot(max_pos, maxy, 'mo', label='Maxima')\n",
    "plt.plot(min_pos, miny, 'ro', label='Minima')\n",
    "ax.set(xlabel=old_cols[0], ylabel=old_cols[1], title='0.04mm Single Slit, dist={}m'.format(round(diff, 7)))\n",
    "ax.legend()\n",
    "#ax.legend('Raw data, gain=100', 'Rolling average='.format(winy), 'Max and min')\n",
    "plt.savefig('./important_bois/'+'BEECH7'+'.png', dpi=350)\n",
    "plt.clf()"
   ]
  },
  {
   "cell_type": "markdown",
   "metadata": {},
   "source": [
    "Plotting Double Slit a=.04mm, d=.5mm"
   ]
  },
  {
   "cell_type": "code",
   "execution_count": 121,
   "metadata": {},
   "outputs": [],
   "source": [
    "# HANGRY\n",
    "data = pd.read_csv('./lab_data/HANGRY1.txt', header=1, delimiter='\\t')\n",
    "old_cols = data.columns.tolist()\n",
    "winy=250\n",
    "data = data.rename(columns={old_cols[0]:'Position', old_cols[1]:'Intensity'})\n",
    "data['MA'] = data['Intensity'].rolling(window=winy, center=True).mean()\n",
    "old_data = data.copy()\n",
    "data = data.fillna(-1111111)"
   ]
  },
  {
   "cell_type": "code",
   "execution_count": 141,
   "metadata": {},
   "outputs": [
    {
     "data": {
      "text/plain": [
       "array([0.00022, 0.0005 , 0.00072, 0.00094])"
      ]
     },
     "execution_count": 141,
     "metadata": {},
     "output_type": "execute_result"
    }
   ],
   "source": [
    "#rows = data.loc[(data['Position']>=.005) & (data['Position']<=.007)]\n",
    "maxes = []\n",
    "for i in range(5):\n",
    "    if i == 0:\n",
    "        min_val = .005\n",
    "    else:\n",
    "        min_val = maxes[i-1][1]\n",
    "    maxes.append(max_finder42069(min_val, data))\n",
    "maxes = np.asarray(maxes)\n",
    "maxes\n",
    "dists = abs(maxes[0, 1] - maxes[1:, 1])\n",
    "dists"
   ]
  },
  {
   "cell_type": "code",
   "execution_count": 170,
   "metadata": {},
   "outputs": [],
   "source": [
    "def max_finder42069(min_val, data):\n",
    "    rows = data.loc[(data['Position']>min_val) & (data['Position']<=.008)]\n",
    "    one_max = max(rows['Intensity'])\n",
    "    one_max_pos = float(rows[rows['Intensity'] == one_max]['Position'])\n",
    "    return (one_max, one_max_pos)"
   ]
  },
  {
   "cell_type": "code",
   "execution_count": 150,
   "metadata": {},
   "outputs": [
    {
     "data": {
      "text/plain": [
       "<Figure size 432x288 with 0 Axes>"
      ]
     },
     "metadata": {},
     "output_type": "display_data"
    }
   ],
   "source": [
    "data['MA'] = old_data['MA']\n",
    "ax = plt.gca()\n",
    "plt.plot(data['Position'], data['Intensity'], label='Raw data at gain=10')\n",
    "plt.plot(data['Position'], data['MA'], label='Rolling average window={}'.format(winy))\n",
    "plt.plot(maxes[:, 1], maxes[:, 0], 'ro', label='Maximae')\n",
    "# plotting important points\n",
    "#plt.plot(max_pos, maxy, 'mo', label='Maxima')\n",
    "#plt.plot(min_pos, miny, 'ro', label='Minima')\n",
    "ax.set(xlabel=old_cols[0], ylabel=old_cols[1], title='Dbl Slit a=.04mm, d=.5mm, dist={}m'.format(dists))\n",
    "ax.legend(bbox_to_anchor = [.6, 1])\n",
    "#ax.legend('Raw data, gain=100', 'Rolling average='.format(winy), 'Max and min')\n",
    "\n",
    "plt.savefig('./important_bois/'+'HANGRY1'+'.png', dpi=350, bbox_inches='tight')\n",
    "plt.clf()"
   ]
  },
  {
   "cell_type": "markdown",
   "metadata": {},
   "source": [
    "Plotting THICC1, a=.08mm, d=.5mm"
   ]
  },
  {
   "cell_type": "code",
   "execution_count": 171,
   "metadata": {},
   "outputs": [],
   "source": [
    "# THICC1\n",
    "data = pd.read_csv('./lab_data/THICC1.txt', header=1, delimiter='\\t')\n",
    "old_cols = data.columns.tolist()\n",
    "winy=250\n",
    "data = data.rename(columns={old_cols[0]:'Position', old_cols[1]:'Intensity'})\n",
    "data['MA'] = data['Intensity'].rolling(window=winy, center=True).mean()\n",
    "old_data = data.copy()\n",
    "data = data.fillna(-1111111)"
   ]
  },
  {
   "cell_type": "code",
   "execution_count": 172,
   "metadata": {},
   "outputs": [
    {
     "data": {
      "text/plain": [
       "array([0.00028, 0.0005 , 0.00072, 0.00095])"
      ]
     },
     "execution_count": 172,
     "metadata": {},
     "output_type": "execute_result"
    }
   ],
   "source": [
    "maxes = []\n",
    "for i in range(5):\n",
    "    if i == 0:\n",
    "        min_val = -.0055\n",
    "    else:\n",
    "        min_val = maxes[i-1][1]+.0001\n",
    "    maxes.append(max_finder42069(min_val, data))\n",
    "maxes = np.asarray(maxes)\n",
    "maxes\n",
    "dists = abs(maxes[0, 1] - maxes[1:, 1])\n",
    "dists"
   ]
  },
  {
   "cell_type": "code",
   "execution_count": 173,
   "metadata": {},
   "outputs": [
    {
     "data": {
      "text/plain": [
       "<Figure size 432x288 with 0 Axes>"
      ]
     },
     "metadata": {},
     "output_type": "display_data"
    }
   ],
   "source": [
    "data['MA'] = old_data['MA']\n",
    "ax = plt.gca()\n",
    "plt.plot(data['Position'], data['Intensity'], label='Raw data at gain=10')\n",
    "plt.plot(data['Position'], data['MA'], label='Rolling average window={}'.format(winy))\n",
    "plt.plot(maxes[:, 1], maxes[:, 0], 'ro', label='Maximae')\n",
    "# plotting important points\n",
    "#plt.plot(max_pos, maxy, 'mo', label='Maxima')\n",
    "#plt.plot(min_pos, miny, 'ro', label='Minima')\n",
    "ax.set(xlabel=old_cols[0], ylabel=old_cols[1], title='Dbl Slit a=.08mm, d=.5mm, dist={}m'.format(dists))\n",
    "ax.legend(bbox_to_anchor = [.6, 1])\n",
    "#ax.legend('Raw data, gain=100', 'Rolling average='.format(winy), 'Max and min')\n",
    "\n",
    "plt.savefig('./important_bois/'+'THICC1'+'.png', dpi=350, bbox_inches='tight')\n",
    "plt.clf()"
   ]
  },
  {
   "cell_type": "markdown",
   "metadata": {},
   "source": [
    "Plant a=.04mm, d=.25mm"
   ]
  },
  {
   "cell_type": "code",
   "execution_count": 176,
   "metadata": {},
   "outputs": [],
   "source": [
    "# PLANT1\n",
    "data = pd.read_csv('./lab_data/PLANT1.txt', header=1, delimiter='\\t')\n",
    "old_cols = data.columns.tolist()\n",
    "winy=350\n",
    "data = data.rename(columns={old_cols[0]:'Position', old_cols[1]:'Intensity'})\n",
    "data['MA'] = data['Intensity'].rolling(window=winy, center=True).mean()\n",
    "old_data = data.copy()\n",
    "data = data.fillna(-1111111)"
   ]
  },
  {
   "cell_type": "code",
   "execution_count": 177,
   "metadata": {},
   "outputs": [
    {
     "data": {
      "text/plain": [
       "array([0.00039, 0.00078, 0.00117, 0.00156])"
      ]
     },
     "execution_count": 177,
     "metadata": {},
     "output_type": "execute_result"
    }
   ],
   "source": [
    "maxes = []\n",
    "for i in range(5):\n",
    "    if i == 0:\n",
    "        min_val = -.0055\n",
    "    else:\n",
    "        min_val = maxes[i-1][1]+.00015\n",
    "    maxes.append(max_finder42069(min_val, data))\n",
    "maxes = np.asarray(maxes)\n",
    "maxes\n",
    "dists = abs(maxes[0, 1] - maxes[1:, 1])\n",
    "dists"
   ]
  },
  {
   "cell_type": "code",
   "execution_count": 178,
   "metadata": {},
   "outputs": [
    {
     "data": {
      "text/plain": [
       "<Figure size 432x288 with 0 Axes>"
      ]
     },
     "metadata": {},
     "output_type": "display_data"
    }
   ],
   "source": [
    "data['MA'] = old_data['MA']\n",
    "ax = plt.gca()\n",
    "plt.plot(data['Position'], data['Intensity'], label='Raw data at gain=10')\n",
    "plt.plot(data['Position'], data['MA'], label='Rolling average window={}'.format(winy))\n",
    "plt.plot(maxes[:, 1], maxes[:, 0], 'ro', label='Maximae')\n",
    "# plotting important points\n",
    "#plt.plot(max_pos, maxy, 'mo', label='Maxima')\n",
    "#plt.plot(min_pos, miny, 'ro', label='Minima')\n",
    "ax.set(xlabel=old_cols[0], ylabel=old_cols[1], title='Dbl Slit a=.04mm, d=.25mm, dist={}m'.format(dists))\n",
    "ax.legend(bbox_to_anchor = [.6, 1])\n",
    "#ax.legend('Raw data, gain=100', 'Rolling average='.format(winy), 'Max and min')\n",
    "\n",
    "plt.savefig('./important_bois/'+'PLANT1'+'.png', dpi=350, bbox_inches='tight')\n",
    "plt.clf()"
   ]
  },
  {
   "cell_type": "code",
   "execution_count": null,
   "metadata": {},
   "outputs": [],
   "source": []
  }
 ],
 "metadata": {
  "kernelspec": {
   "display_name": "Torch",
   "language": "python",
   "name": "torch"
  },
  "language_info": {
   "codemirror_mode": {
    "name": "ipython",
    "version": 3
   },
   "file_extension": ".py",
   "mimetype": "text/x-python",
   "name": "python",
   "nbconvert_exporter": "python",
   "pygments_lexer": "ipython3",
   "version": "3.8.3"
  }
 },
 "nbformat": 4,
 "nbformat_minor": 4
}
