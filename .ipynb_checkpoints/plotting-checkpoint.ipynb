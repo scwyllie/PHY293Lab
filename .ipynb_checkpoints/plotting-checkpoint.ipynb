{
 "cells": [
  {
   "cell_type": "code",
   "execution_count": 2,
   "metadata": {},
   "outputs": [],
   "source": [
    "from matplotlib import pyplot as plt\n",
    "import numpy as np\n",
    "import pandas as pd\n",
    "import os"
   ]
  },
  {
   "cell_type": "code",
   "execution_count": 10,
   "metadata": {},
   "outputs": [
    {
     "data": {
      "text/plain": [
       "['BEECH1.txt',\n",
       " 'BEECH2.txt',\n",
       " 'BEECH3.txt',\n",
       " 'BEECH4.txt',\n",
       " 'BEECH5.txt',\n",
       " 'BEECH6.txt',\n",
       " 'BEECH7.txt',\n",
       " 'BEECH8.txt',\n",
       " 'BEECH9.txt',\n",
       " 'DATA1.txt',\n",
       " 'DATA2.txt',\n",
       " 'DATA3.txt',\n",
       " 'DATA4.txt',\n",
       " 'DATA5.txt',\n",
       " 'DATA6.txt',\n",
       " 'DATA7.txt',\n",
       " 'DATA8.txt',\n",
       " 'DATA9.txt',\n",
       " 'HANGRY1.txt',\n",
       " 'HANGRY2.txt',\n",
       " 'PLANT1.txt',\n",
       " 'PLANT2.txt',\n",
       " 'PLANT3.txt',\n",
       " 'PLANT4.txt',\n",
       " 'THICC1.txt',\n",
       " 'THICC2.txt',\n",
       " 'THICC3.txt']"
      ]
     },
     "execution_count": 10,
     "metadata": {},
     "output_type": "execute_result"
    }
   ],
   "source": [
    "files = list(os.listdir('./lab_data/'))\n",
    "files.sort()\n",
    "files"
   ]
  },
  {
   "cell_type": "code",
   "execution_count": 62,
   "metadata": {},
   "outputs": [
    {
     "data": {
      "text/plain": [
       "<Figure size 432x288 with 0 Axes>"
      ]
     },
     "metadata": {},
     "output_type": "display_data"
    }
   ],
   "source": [
    "for i in range(len(files)):\n",
    "    data = pd.read_csv('./lab_data/{}'.format(files[i]), header=1, delimiter='\\t')\n",
    "    old_cols = data.columns.tolist()\n",
    "    data = data.rename(columns={old_cols[0]:'Position', old_cols[1]:'Intensity'})\n",
    "    # moving average\n",
    "    data[\"MA\"] = data[\"Intensity\"].rolling(window=150, center=True).mean()\n",
    "    ax = plt.gca()\n",
    "    plt.plot(data['Position'], data['Intensity'])\n",
    "    plt.plot(data['Position'], data['MA'])\n",
    "    ax.set(xlabel=old_cols[0], ylabel=old_cols[1], title=files[i])\n",
    "    plt.savefig('./plotted/'+files[i]+'.png', dpi=350)\n",
    "    plt.clf()"
   ]
  },
  {
   "cell_type": "code",
   "execution_count": 77,
   "metadata": {},
   "outputs": [
    {
     "data": {
      "text/plain": [
       "0.30328086666666665"
      ]
     },
     "execution_count": 77,
     "metadata": {},
     "output_type": "execute_result"
    }
   ],
   "source": [
    "data = pd.read_csv('./lab_data/BEECH7.txt', header=1, delimiter='\\t')\n",
    "old_cols = data.columns.tolist()\n",
    "winy=150\n",
    "data = data.rename(columns={old_cols[0]:'Position', old_cols[1]:'Intensity'})\n",
    "data['MA'] = data['Intensity'].rolling(window=winy, center=True).mean()\n",
    "old_data = data.copy()\n",
    "data = data.fillna(-1111111)\n",
    "max(data['MA'])"
   ]
  },
  {
   "cell_type": "code",
   "execution_count": 78,
   "metadata": {},
   "outputs": [],
   "source": [
    "maxframe = data.loc[(data['Position'] >= -.05) & (data['Position'] <= -.03)]\n",
    "maxy = max(maxframe['MA'])\n",
    "max_row = data.loc[data['MA'] == maxy]\n",
    "max_pos = float(max_row['Position'])\n",
    "minframe = data.loc[(data['Position'] >= -.03) & (data['Position'] <= -.01)]\n",
    "miny = min(minframe['MA'])\n",
    "min_row = data.loc[data['MA'] == miny]\n",
    "min_pos = float(min_row['Position'])\n",
    "diff = abs(abs(max_pos)-abs(min_pos))\n",
    "data['MA'] = old_data['MA']"
   ]
  },
  {
   "cell_type": "code",
   "execution_count": 76,
   "metadata": {},
   "outputs": [
    {
     "data": {
      "text/plain": [
       "<Figure size 432x288 with 0 Axes>"
      ]
     },
     "metadata": {},
     "output_type": "display_data"
    }
   ],
   "source": [
    "ax = plt.gca()\n",
    "plt.plot(data['Position'], data['Intensity'])\n",
    "plt.plot(data['Position'], data['MA'])\n",
    "# plotting important points\n",
    "plt.plot(max_pos, maxy, 'mo')\n",
    "plt.plot(min_pos, miny, 'mo')\n",
    "ax.set(xlabel=old_cols[0], ylabel=old_cols[1], title='BEECH7')\n",
    "ax.legend('Raw data, gain=100', 'Rolling average='.format(winy), 'Max and min')\n",
    "plt.savefig('./important_bois/'+'BEECH7'+'.png', dpi=350)\n",
    "plt.clf()"
   ]
  },
  {
   "cell_type": "code",
   "execution_count": null,
   "metadata": {},
   "outputs": [],
   "source": [
    "# PLANT THIC HANGRY"
   ]
  }
 ],
 "metadata": {
  "kernelspec": {
   "display_name": "Torch",
   "language": "python",
   "name": "torch"
  },
  "language_info": {
   "codemirror_mode": {
    "name": "ipython",
    "version": 3
   },
   "file_extension": ".py",
   "mimetype": "text/x-python",
   "name": "python",
   "nbconvert_exporter": "python",
   "pygments_lexer": "ipython3",
   "version": "3.8.3"
  }
 },
 "nbformat": 4,
 "nbformat_minor": 4
}
